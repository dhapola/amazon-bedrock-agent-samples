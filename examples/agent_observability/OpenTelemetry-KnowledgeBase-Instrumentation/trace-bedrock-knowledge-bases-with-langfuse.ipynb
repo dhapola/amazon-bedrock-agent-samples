{
 "cells": [
  {
   "cell_type": "markdown",
   "metadata": {},
   "source": [
    "# Amazon Bedrock Recipe: Langfuse Integration with Amazon Bedrock Knowledge Bases\n",
    "\n",
    "## Overview\n",
    "This recipe implements an OpenTelemetry-based tracing and monitoring system for Amazon Bedrock Knowledge Bases through Langfuse integration. It creates trace structures to track Knowledge Base operation performance metrics including retrieval scores, result counts, and execution durations. It processes Knowledge Base retrieve operations, generating spans with operation attributes such as timing data, error states, and response content. The error handling and logging functions enable systematic debugging, performance monitoring, and audit trail maintenance.\n",
    "\n",
    "### Context\n",
    "Langfuse integration enables tracing, monitoring, and analyzing the performance and behavior of your Amazon Bedrock Knowledge Base operations. This helps in understanding KB interactions, debugging issues, and optimizing performance. When using Langfuse, you can utilize the cloud platform or a self-hosted option on a container.\n",
    "\n",
    "#### Use Case\n",
    "To demonstrate the integration between Langfuse and Amazon Bedrock Knowledge Bases, providing observability outside of AWS tooling.\n",
    "\n",
    "#### Implementation\n",
    "In this notebook, we will show how to integrate Amazon Bedrock Knowledge Bases and Langfuse the Langfuse cloud platform. We will configure KB operation observability, send traces to Langfuse, and validate the results using Knowledge Base retrieve and retrieveandgenerate operations.\n"
   ]
  },
  {
   "cell_type": "markdown",
   "metadata": {},
   "source": [
    "## Prerequisites\n",
    "AWS account with appropriate IAM permissions for Amazon Bedrock Knowledge Bases and Model Access as well as appropriate permission to deploy containers if using the Langfuse self-hosted option."
   ]
  },
  {
   "cell_type": "markdown",
   "metadata": {},
   "source": [
    "### Python Dependencies\n",
    "\n",
    "To run this notebook, you'll need to install some libraries in your environment:\n"
   ]
  },
  {
   "cell_type": "code",
   "execution_count": null,
   "metadata": {},
   "outputs": [],
   "source": [
    "%pip install -qr requirements.txt"
   ]
  },
  {
   "cell_type": "markdown",
   "metadata": {},
   "source": [
    "### AWS Credentials\n",
    "Before using Amazon Bedrock, ensure that your AWS credentials are configured correctly. You can set them up using the AWS CLI or by setting environment variables. For this notebook assumes that the credentials are already configured.\n"
   ]
  },
  {
   "cell_type": "code",
   "execution_count": null,
   "metadata": {},
   "outputs": [],
   "source": [
    "import boto3\n",
    "\n",
    "# Create the client to invoke Knowledge Bases in Amazon Bedrock:\n",
    "br_kb_runtime = boto3.client(\"bedrock-agent-runtime\")"
   ]
  },
  {
   "cell_type": "markdown",
   "metadata": {},
   "source": [
    "### Amazon Bedrock Knowledge Base\n",
    "\n",
    "We assume you've already created an [Amazon Bedrock Knowledge Base](https://docs.aws.amazon.com/bedrock/latest/userguide/knowledge-base.html). If you don't have one already you can follow the **[instructions here](https://docs.aws.amazon.com/bedrock/latest/userguide/knowledge-base-build.html)** to set up an example knowledge base.\n",
    "\n",
    "Configure your knowledge base **ID** in the cell below. You can find these by looking up your knowledge base in the [\"Knowledge Base\" page on the AWS Console for Amazon Bedrock](https://console.aws.amazon.com/bedrock/home?#/knowledge-bases) or CLI.\n",
    "\n",
    "The Knowledge Base ID should be ten characters, uppercase, and alphanumeric."
   ]
  },
  {
   "cell_type": "code",
   "execution_count": null,
   "metadata": {},
   "outputs": [],
   "source": [
    "kb_id = \"\"  # <- Configure your Bedrock Knowledge Base ID"
   ]
  },
  {
   "cell_type": "markdown",
   "metadata": {},
   "source": [
    "Before moving on lets validate retrieve API is working correctly. The response is not important we are simply testing the API call. "
   ]
  },
  {
   "cell_type": "code",
   "execution_count": null,
   "metadata": {},
   "outputs": [],
   "source": [
    "print(f\"Trying to retrieve from knowledge base {kb_id}...\")\n",
    "kb_resp = br_kb_runtime.retrieve(\n",
    "    knowledgeBaseId=kb_id,\n",
    "    retrievalQuery={\n",
    "        \"text\": \"Test query\"\n",
    "    },\n",
    "    retrievalConfiguration={\n",
    "        \"vectorSearchConfiguration\": {\n",
    "            \"numberOfResults\": 3\n",
    "        }\n",
    "    }\n",
    ")\n",
    "if \"retrievalResults\" in kb_resp:\n",
    "    print(\"✅ Got response\")\n",
    "else:\n",
    "    raise ValueError(f\"No 'retrievalResults' in knowledge base response:\\n{kb_resp}\")"
   ]
  },
  {
   "cell_type": "markdown",
   "metadata": {},
   "source": [
    "### Langfuse API keys\n",
    "\n",
    "There are multiple ways you can use Langfuse - and we'll first need to configure where your Langfuse is hosted:\n",
    "\n",
    "### Langfuse Cloud\n",
    "\n",
    "If you're directly using [Langfuse Cloud](https://langfuse.com/pricing), your langfuse_api_url will be either\n",
    "- https://cloud.langfuse.com/\n",
    "- https://us.cloud.langfuse.com/\n",
    "- ...or similar."
   ]
  },
  {
   "cell_type": "markdown",
   "metadata": {},
   "source": [
    "Once your Langfuse environment is set up and you've signed in to the UI, you'll need to set up an **API key pair** for your particular Organization and Project (create a new project if you don't have one already).\n",
    "\n",
    "For more information, see the [FAQ: Where are my Langfuse API keys](https://langfuse.com/faq/all/where-are-langfuse-api-keys) and Langfuse's [getting started documentation](https://langfuse.com/docs/get-started)."
   ]
  },
  {
   "cell_type": "markdown",
   "metadata": {},
   "source": [
    "### Langfuse Configuration\n",
    "Make sure you have updated the **config.json** file with your Langfuse API Keys and Knowledge Base data. "
   ]
  },
  {
   "cell_type": "code",
   "execution_count": null,
   "metadata": {},
   "outputs": [],
   "source": [
    "import os\n",
    "import base64\n",
    "import json\n",
    "import logging\n",
    "\n",
    "logging.basicConfig(level=logging.INFO)\n",
    "logger = logging.getLogger(__name__)\n",
    "\n",
    "# Load configuration\n",
    "with open('config.json', 'r') as config_file:\n",
    "    config = json.load(config_file)\n",
    "\n",
    "# Set environment variables\n",
    "os.environ[\"OTEL_SERVICE_NAME\"] = 'Langfuse'\n",
    "os.environ[\"DEPLOYMENT_ENVIRONMENT\"] = config[\"langfuse\"][\"environment\"]\n",
    "project_name = config[\"langfuse\"][\"project_name\"]\n",
    "environment = config[\"langfuse\"][\"environment\"]\n",
    "langfuse_public_key = config[\"langfuse\"][\"langfuse_public_key\"]\n",
    "langfuse_secret_key = config[\"langfuse\"][\"langfuse_secret_key\"]\n",
    "langfuse_api_url = config[\"langfuse\"][\"langfuse_api_url\"]\n",
    "\n",
    "# Create auth header\n",
    "auth_token = base64.b64encode(\n",
    "    f\"{langfuse_public_key}:{langfuse_secret_key}\".encode()\n",
    ").decode()\n",
    "\n",
    "# Set OpenTelemetry environment variables for Langfuse\n",
    "os.environ[\"OTEL_EXPORTER_OTLP_ENDPOINT\"] = f\"{langfuse_api_url}api/public/otel/v1/traces\"\n",
    "os.environ[\"OTEL_EXPORTER_OTLP_HEADERS\"] = f\"Authorization=Basic {auth_token}\"\n",
    "\n",
    "# Print all the environment variables\n",
    "print(\"Environment Variables:\")\n",
    "print(\"-\" * 30)\n",
    "print(f\"OTEL_SERVICE_NAME: {os.environ.get('OTEL_SERVICE_NAME')}\")\n",
    "print(f\"DEPLOYMENT_ENVIRONMENT: {os.environ.get('DEPLOYMENT_ENVIRONMENT')}\")\n",
    "print(f\"OTEL_EXPORTER_OTLP_ENDPOINT: {os.environ.get('OTEL_EXPORTER_OTLP_ENDPOINT')}\")"
   ]
  },
  {
   "cell_type": "markdown",
   "metadata": {},
   "source": [
    "### Setting up Knowledge Base tracing\n",
    "\n",
    "With all the pre-requisites in place, we're ready to recording traces from your Bedrock Knowledge Base into Langfuse.\n",
    "\n",
    "First, let's load the libraries:"
   ]
  },
  {
   "cell_type": "code",
   "execution_count": null,
   "metadata": {},
   "outputs": [],
   "source": [
    "import time\n",
    "import boto3\n",
    "import uuid\n",
    "import json\n",
    "from core.timer_lib import timer\n",
    "from core import instrument_kb_operation, flush_telemetry"
   ]
  },
  {
   "cell_type": "markdown",
   "metadata": {},
   "source": [
    "#### Now lets define a wrapper function\n",
    "Here we create a wrapper function that is used to query the Amazon Bedrock Knowledge Base with instrumentation for Langfuse on the Amazon Bedrock Knowledge Base runtime API.\n",
    "\n",
    "1. Instrumentation for monitoring\n",
    "3. Trace enabling for debugging\n",
    "4. Flexible parameter handling through kwargs\n",
    "5. Proper logging of configuration states\n"
   ]
  },
  {
   "cell_type": "code",
   "execution_count": null,
   "metadata": {},
   "outputs": [],
   "source": [
    "@instrument_kb_operation\n",
    "def retrieve_from_kb(kbId: str, query: str, **kwargs):\n",
    "    bedrock_kb_client = boto3.client(\"bedrock-agent-runtime\")\n",
    "\n",
    "    retrieve_params = {\n",
    "        \"knowledgeBaseId\": kbId,\n",
    "        \"retrievalQuery\": {\n",
    "            \"text\": query\n",
    "        },\n",
    "        \"retrievalConfiguration\": {\n",
    "            \"vectorSearchConfiguration\": {\n",
    "                \"numberOfResults\": 3\n",
    "            }\n",
    "        }\n",
    "    }\n",
    "\n",
    "    response = bedrock_kb_client.retrieve(**retrieve_params)\n",
    "    return response"
   ]
  },
  {
   "cell_type": "code",
   "execution_count": null,
   "metadata": {},
   "outputs": [],
   "source": [
    "# Generate a custom trace ID\n",
    "trace_id = str(uuid.uuid4())\n",
    "tags = [\"bedrock-kb\", \"example\", \"development\"]"
   ]
  },
  {
   "cell_type": "markdown",
   "metadata": {},
   "source": [
    "### Query"
   ]
  },
  {
   "cell_type": "code",
   "execution_count": null,
   "metadata": {},
   "outputs": [],
   "source": [
    "# Your query to the knowledge base\n",
    "query = \"\" # your query to the knowledge base"
   ]
  },
  {
   "cell_type": "markdown",
   "metadata": {},
   "source": [
    "### Invoke Knowledge Base Retrieve Function\n",
    "Here we pass all the parameters for retrieving from the knowledge base along with the observability integration with Langfuse."
   ]
  },
  {
   "cell_type": "code",
   "execution_count": null,
   "metadata": {},
   "outputs": [],
   "source": [
    "# Knowledge Base retrieval\n",
    "response = retrieve_from_kb(\n",
    "    kbId=config[\"kb\"][\"kbId\"],\n",
    "    query=query,\n",
    "    operation_type=\"retrieve\",\n",
    "    userId=config[\"user\"][\"userId\"],\n",
    "    tags=tags,\n",
    "    trace_id=trace_id,\n",
    "    project_name=config[\"langfuse\"][\"project_name\"],\n",
    "    environment=config[\"langfuse\"][\"environment\"],\n",
    "    langfuse_public_key=config[\"langfuse\"][\"langfuse_public_key\"],\n",
    "    langfuse_secret_key=config[\"langfuse\"][\"langfuse_secret_key\"],\n",
    "    langfuse_api_url=config[\"langfuse\"][\"langfuse_api_url\"]\n",
    ")"
   ]
  },
  {
   "cell_type": "markdown",
   "metadata": {},
   "source": [
    "### Response Handling\n",
    "Here we process and print the response from the Knowledge Base."
   ]
  },
  {
   "cell_type": "code",
   "execution_count": null,
   "metadata": {},
   "outputs": [],
   "source": [
    "# Process and print the response\n",
    "if isinstance(response, dict) and \"error\" in response:\n",
    "    print(f\"\\nError: {response['error']}\")\n",
    "else:\n",
    "    print(\"\\n🔍 KB Retrieval Results:\")\n",
    "    for idx, result in enumerate(response.get('retrievalResults', []), 1):\n",
    "        print(f\"\\nResult {idx}:\")\n",
    "        print(f\"Score: {result.get('score', 'N/A')}\")\n",
    "        print(f\"Content: {result.get('content', {}).get('text', 'N/A')[:100]}...\")\n",
    "        print(f\"Source: {result.get('location', {}).get('s3Location', {}).get('uri', 'N/A')}\")"
   ]
  },
  {
   "cell_type": "markdown",
   "metadata": {},
   "source": [
    "#### Clean up\n",
    "Flush telemetry before exiting"
   ]
  },
  {
   "cell_type": "code",
   "execution_count": null,
   "metadata": {},
   "outputs": [],
   "source": [
    "flush_telemetry()\n",
    "#timer.reset_all()"
   ]
  }
 ],
 "metadata": {
  "kernelspec": {
   "display_name": "Python 3 (ipykernel)",
   "language": "python",
   "name": "python3"
  },
  "language_info": {
   "codemirror_mode": {
    "name": "ipython",
    "version": 3
   },
   "file_extension": ".py",
   "mimetype": "text/x-python",
   "name": "python",
   "nbconvert_exporter": "python",
   "pygments_lexer": "ipython3",
   "version": "3.11.11"
  }
 },
 "nbformat": 4,
 "nbformat_minor": 4
}
