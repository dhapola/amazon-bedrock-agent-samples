{
 "cells": [
  {
   "cell_type": "markdown",
   "metadata": {},
   "source": [
    "# Getting Started with AWS Bedrock Agent Library\n",
    "\n",
    "This notebook demonstrates how to use the bedrock_agent library from the src/utils directory to create and interact with AWS Bedrock Agents. This library provides high-level Pythonic objects such as Agent, Guardrail, and Tool to simplify building with Bedrock Agents in Python."
   ]
  },
  {
   "cell_type": "markdown",
   "metadata": {},
   "source": [
    "## Importing the library"
   ]
  },
  {
   "cell_type": "code",
   "execution_count": null,
   "metadata": {},
   "outputs": [],
   "source": [
    "import os\n",
    "import sys\n",
    "\n",
    "sys.path.append(\"../..\")\n",
    "sys.path.append(\"../../src\")\n",
    "from utils.bedrock_agent import Agent, Tool, ParameterSchema, ParamType, Task"
   ]
  },
  {
   "cell_type": "markdown",
   "metadata": {},
   "source": [
    "## Basic Agent operations - create, test existence, invoke, delete\n",
    "\n",
    "Let's start by creating a simple 'Hello World' agent. This agent will demonstrate the basic components needed to create and interact with a Bedrock Agent."
   ]
  },
  {
   "cell_type": "markdown",
   "metadata": {},
   "source": [
    "### Simple create and invoke"
   ]
  },
  {
   "cell_type": "code",
   "execution_count": null,
   "metadata": {},
   "outputs": [],
   "source": [
    "Agent.set_force_recreate_default(True)\n",
    "agent = Agent.create(\n",
    "    \"poet-agent\", \"Write poems\", \"Write poems as directed by the user\", \"write poems\"\n",
    ")\n",
    "print(agent.invoke(\"Please write a poem about ice hockey\"))"
   ]
  },
  {
   "cell_type": "markdown",
   "metadata": {},
   "source": [
    "### Check for the agent's existence\n",
    "Note that the agent is persisted in Bedrock:"
   ]
  },
  {
   "cell_type": "code",
   "execution_count": null,
   "metadata": {},
   "outputs": [],
   "source": [
    "print(Agent.exists(\"poet-agent\"))"
   ]
  },
  {
   "cell_type": "markdown",
   "metadata": {},
   "source": [
    "### Delete the agent"
   ]
  },
  {
   "cell_type": "code",
   "execution_count": null,
   "metadata": {},
   "outputs": [],
   "source": [
    "Agent.delete_by_name(\"poet-agent\")"
   ]
  },
  {
   "cell_type": "markdown",
   "metadata": {},
   "source": [
    "## More advanced Agent creation\n",
    "You can specify more information when creating an Agent, and can create them in other ways, such as from a YAML configuration file. Alteratively, you can also modify the agent (ex. attach a Tool) after its creation."
   ]
  },
  {
   "cell_type": "code",
   "execution_count": null,
   "metadata": {},
   "outputs": [],
   "source": [
    "calculator_agent = Agent.create(\n",
    "    name=\"calculator_agent\",\n",
    "    role=\"Perform calculations\",\n",
    "    goal=\"Calculate responses to provided questions\",\n",
    "    instructions=\"\"\"If the question involves a numerical calculation, execute it using the \n",
    "                                     code interpreter as needed. If it is not a calculation, reply with the\n",
    "                                     phrase 'I can help you with calculations. Do you have a calcalation for me?\n",
    "                                     \"\"\",\n",
    "    llm=\"us.anthropic.claude-3-5-sonnet-20241022-v2:0\",\n",
    "    code_interpreter=True,  # lets us write code to do accurate calculations\n",
    "    verbose=True,\n",
    ")\n",
    "print(calculator_agent.invoke(\"What is sin(.268) * pi/2?\"))"
   ]
  },
  {
   "cell_type": "markdown",
   "metadata": {},
   "source": [
    "### Creating an Agent from a YAML template\n",
    "It is often convenient, particularly when working with multiple agents, to define the agents in a YAML file. The file can contain multiple agent definitions and is, by default, 'agents.yaml' (although you can specify a different filename):"
   ]
  },
  {
   "cell_type": "code",
   "execution_count": null,
   "metadata": {},
   "outputs": [],
   "source": [
    "Agent.set_force_recreate_default(True)\n",
    "test_agent = Agent.create_from_yaml(\"test_agent\")"
   ]
  },
  {
   "cell_type": "markdown",
   "metadata": {},
   "source": [
    "Tha YAML file contains definitions: "
   ]
  },
  {
   "cell_type": "raw",
   "metadata": {
    "vscode": {
     "languageId": "raw"
    }
   },
   "source": [
    "test_agent:\n",
    "  role: >\n",
    "    General purpose agent\n",
    "  goal: >\n",
    "    Use tools to execute user instructions\n",
    "  instructions: >\n",
    "    Use tools to execute user instructions\n",
    "  llm: us.anthropic.claude-3-5-sonnet-20241022-v2:0"
   ]
  },
  {
   "cell_type": "markdown",
   "metadata": {},
   "source": [
    "## Working with Tools\n",
    "\n",
    "Agents can be enhanced with tools that allow them to perform specific actions. Tools can be attached at Agent create time or later. They can be created from local code files, or created directly from Python functions."
   ]
  },
  {
   "cell_type": "markdown",
   "metadata": {},
   "source": [
    "### Creating tools from code\n",
    "You can create a Tool from a Python function that is annotated with type hints. Note this currently materializes a lambda created from the function:"
   ]
  },
  {
   "cell_type": "code",
   "execution_count": null,
   "metadata": {},
   "outputs": [],
   "source": [
    "def mask_string(input_string: str) -> str:\n",
    "    \"\"\"Masks a string by replacing all but the last four characters with asterisks.\"\"\"\n",
    "    if len(input_string) <= 4:\n",
    "        return input_string\n",
    "    else:\n",
    "        return \"*\" * (len(input_string) - 4) + input_string[-4:]"
   ]
  },
  {
   "cell_type": "code",
   "execution_count": null,
   "metadata": {},
   "outputs": [],
   "source": [
    "test_agent.attach_tool_from_function(mask_string)\n",
    "test_agent.prepare()\n",
    "test_agent.invoke(\"Please mask this string: 077-29-2932\")"
   ]
  },
  {
   "cell_type": "markdown",
   "metadata": {},
   "source": [
    "### Creating a Tool via a ParameterSchema\n",
    "If you have a lambda that is not in Python and/or does not have type hints, you can create a ParameterSchema for it to define the parameters needed. From that and a code file, you can create a Tool, and then attach it to your Agent."
   ]
  },
  {
   "cell_type": "code",
   "execution_count": null,
   "metadata": {},
   "outputs": [],
   "source": [
    "schema = ParameterSchema.create_with_values(\n",
    "    name=\"input_string\",\n",
    "    parameter_type=ParamType.STRING,\n",
    "    description=\"String to transmorgify\",\n",
    "    required=False,\n",
    ")\n",
    "transmorgifier_tool = Tool.create(\n",
    "    \"transmorgifier\",\n",
    "    schema=schema,\n",
    "    code_file=\"lambda_transmorgify_string.py\",\n",
    "    description=\"transmorgifies a string\",\n",
    ")\n",
    "test_agent.attach_tool(transmorgifier_tool)\n",
    "print(\n",
    "    test_agent.invoke(\n",
    "        \"Please transmorgify this string: Who can say what the rain may bring?\"\n",
    "    )\n",
    ")"
   ]
  },
  {
   "cell_type": "markdown",
   "metadata": {},
   "source": [
    "### Defining Tools at Agent creation\n",
    "You can define the Tool with the agent, if its parameter schema is available:"
   ]
  },
  {
   "cell_type": "code",
   "execution_count": null,
   "metadata": {},
   "outputs": [],
   "source": [
    "test_user_data_agent = Agent.create(\n",
    "    name=\"test_user_data_agent\",\n",
    "    role=\"Accesser of user data\",\n",
    "    goal=\"Find user profile data and return it\",\n",
    "    instructions=\"Use the provided tool to find user profile data and return it\",\n",
    "    tool_code=\"lambda_lookup_user_profile.py\",\n",
    "    tool_defs=[\n",
    "        {\n",
    "            \"name\": \"lookup_user_profile\",\n",
    "            \"description\": \"Return user profile data as a JSON structure. Requires an input user id\",\n",
    "            \"parameters\": {\n",
    "                \"user_id\": {\n",
    "                    \"description\": \"The unique identifier of the user\",\n",
    "                    \"type\": \"string\",\n",
    "                    \"required\": False,\n",
    "                }\n",
    "            },\n",
    "        }\n",
    "    ],\n",
    "    llm=\"us.anthropic.claude-3-5-sonnet-20241022-v2:0\",\n",
    "    code_interpreter=False,\n",
    "    verbose=True,\n",
    ")"
   ]
  },
  {
   "cell_type": "code",
   "execution_count": null,
   "metadata": {},
   "outputs": [],
   "source": [
    "Agent.delete_by_name(\"test_user_data_agent\")"
   ]
  },
  {
   "cell_type": "markdown",
   "metadata": {},
   "source": [
    "## Working with Knowledge Bases\n",
    "\n",
    "Agents can be enhanced with knowledge bases to provide additional context and information."
   ]
  },
  {
   "cell_type": "code",
   "execution_count": null,
   "metadata": {},
   "outputs": [],
   "source": [
    "# Create a knowledge base (to show attachment to an Agent on creation)\n",
    "import time\n",
    "from src.utils.knowledge_base_helper import KnowledgeBasesForAmazonBedrock\n",
    "import random\n",
    "\n",
    "# Create a quick KB for demonstration purposes\n",
    "kb_helper = KnowledgeBasesForAmazonBedrock()\n",
    "kb_name = \"mortgage-test-kb\"\n",
    "random_string = \"\".join(random.choices(\"0123456789\", k=4))\n",
    "bucket_name = f\"test-kb-bucket-{random_string}\"\n",
    "kb_id, ds_id = kb_helper.create_or_retrieve_knowledge_base(\n",
    "    kb_name,\n",
    "    kb_description=\"Useful for answering questions about mortgage refinancing and for questions comparing various mortgage types\",\n",
    "    data_bucket_name=bucket_name,\n",
    ")\n",
    "# Normally you would upload data to the bucket here\n",
    "\n",
    "time.sleep(30)  # ensure that the kb is available\n",
    "kb_helper.synchronize_data(kb_id, ds_id)  # sync knowledge base"
   ]
  },
  {
   "cell_type": "markdown",
   "metadata": {},
   "source": [
    "### Attach a knowledge base on agent creation"
   ]
  },
  {
   "cell_type": "code",
   "execution_count": null,
   "metadata": {},
   "outputs": [],
   "source": [
    "# Create an agent, specifying the LLM and attaching a KnowledgeBase\n",
    "general_mortgage_questions = Agent.create(\n",
    "    name=\"mortgage_test_agent\",\n",
    "    role=\"General Mortgage Questions\",\n",
    "    goal=\"Handle conversations about general mortgage questions, like high level concepts of refinancing or tradeoffs of 15-year vs 30-year terms.\",\n",
    "    instructions=\"\"\"You are a mortgage bot, and can answer questions about mortgage refinancing and tradeoffs of mortgage types.\"\"\",\n",
    "    kb_id=kb_id,\n",
    "    kb_descr=\"\"\"Use this knowledge base to answer general questions about mortgages, like how to refinance, or the difference between 15-year and 30-year mortgages.\"\"\",\n",
    "    llm=\"us.anthropic.claude-3-5-sonnet-20241022-v2:0\",\n",
    ")"
   ]
  },
  {
   "cell_type": "markdown",
   "metadata": {},
   "source": [
    "### Clean up the knowledge base"
   ]
  },
  {
   "cell_type": "code",
   "execution_count": null,
   "metadata": {},
   "outputs": [],
   "source": [
    "kb_helper.delete_kb(\"mortgage-test-kb\")"
   ]
  },
  {
   "cell_type": "markdown",
   "metadata": {},
   "source": [
    "## Cleanup\n",
    "Run this cleanup code to delete the agents created above:"
   ]
  },
  {
   "cell_type": "code",
   "execution_count": null,
   "metadata": {},
   "outputs": [],
   "source": [
    "Agent.delete_by_name(\"mortgage_test_agent\")\n",
    "Agent.delete_by_name(\"test_agent\")\n",
    "Agent.delete_by_name(\"calculator_agent\")"
   ]
  },
  {
   "cell_type": "markdown",
   "metadata": {},
   "source": [
    "Delete the lambdas (deleting the Agent and Tools leaves the lambdas in place)"
   ]
  },
  {
   "cell_type": "code",
   "execution_count": null,
   "metadata": {},
   "outputs": [],
   "source": [
    "import boto3\n",
    "lambda_client = boto3.client('lambda')\n",
    "lambda_client.delete_function(FunctionName='mask_string')\n",
    "lambda_client.delete_function(FunctionName='transmorgifier')"
   ]
  },
  {
   "cell_type": "code",
   "execution_count": null,
   "metadata": {},
   "outputs": [],
   "source": []
  }
 ],
 "metadata": {
  "kernelspec": {
   "display_name": ".venv",
   "language": "python",
   "name": "python3"
  },
  "language_info": {
   "codemirror_mode": {
    "name": "ipython",
    "version": 3
   },
   "file_extension": ".py",
   "mimetype": "text/x-python",
   "name": "python",
   "nbconvert_exporter": "python",
   "pygments_lexer": "ipython3",
   "version": "3.13.1"
  }
 },
 "nbformat": 4,
 "nbformat_minor": 4
}
