{
 "cells": [
  {
   "cell_type": "markdown",
   "id": "7e61e507-4e74-40de-a7c9-6a96e2582f30",
   "metadata": {},
   "source": [
    "# Creating Sub Agents"
   ]
  },
  {
   "cell_type": "markdown",
   "id": "f4d0fe07-2275-4117-aafb-26176b6bd6c2",
   "metadata": {},
   "source": [
    "## Introduction\n",
    "\n",
    "In this notebook we show you how to create your first sub-agent on [Amazon Bedrock Agents](https://aws.amazon.com/bedrock/agents/).\n",
    "\n",
    "Amazon Bedrock Agents enable generative AI applications to execute multi-step business tasks using natural language.\n",
    "\n",
    "In our first example we will create a Portfolio agent, where customers can ask the agent to return information about Portfolio for certain company stocks. \n",
    "\n",
    "The following represents the piece of architecture that will be built on this module.\n",
    "\n",
    "\n",
    "\n"
   ]
  },
  {
   "cell_type": "markdown",
   "id": "8e74223a-3c92-464d-9c08-2d1372c9ab04",
   "metadata": {},
   "source": [
    "## Setup\n",
    "\n",
    "Firstly, you are going to install boto3 dependencies from pip. Make sure you have the latest version of it for full capabilities"
   ]
  },
  {
   "cell_type": "code",
   "execution_count": null,
   "id": "59b61f0a-c55f-4a43-87da-c82dac2e6319",
   "metadata": {},
   "outputs": [],
   "source": [
    "!pip uninstall boto3 botocore awscli --yes"
   ]
  },
  {
   "cell_type": "code",
   "execution_count": 2,
   "id": "1eb25a08-bee1-4a46-9b77-590242f533de",
   "metadata": {},
   "outputs": [],
   "source": [
    "# Install latest boto3\n",
    "!python3 -m pip install --force-reinstall --no-cache -q --no-dependencies -r ../requirements.txt"
   ]
  },
  {
   "cell_type": "markdown",
   "id": "2f498c69-897e-40e5-8e35-0a5b53634fe4",
   "metadata": {},
   "source": [
    "#### Restart kernel\n",
    "\n",
    "If you face issues to apply the latest multi-agent capabilities, uncomment this line to restart kernel to ensure packages updates to take effect"
   ]
  },
  {
   "cell_type": "code",
   "execution_count": 3,
   "id": "5376dddb-7b7f-4fe3-8519-078a6fb3e271",
   "metadata": {},
   "outputs": [],
   "source": [
    "import IPython\n",
    "\n",
    "#IPython.Application.instance().kernel.do_shutdown(True)"
   ]
  },
  {
   "cell_type": "markdown",
   "id": "33ef3bf1-8385-464f-a458-36c7590fb41e",
   "metadata": {},
   "source": [
    "Check your boto3 version"
   ]
  },
  {
   "cell_type": "code",
   "execution_count": null,
   "id": "5c2a268c-473b-469b-9f33-d8b51b907fe6",
   "metadata": {},
   "outputs": [],
   "source": [
    "!pip freeze | grep boto3"
   ]
  },
  {
   "cell_type": "markdown",
   "id": "acf91241-63fe-4f54-a766-c14dff62da8b",
   "metadata": {},
   "source": [
    "## Creating Agent\n",
    "\n",
    "On this section we declare global variables that will be act as helpers during entire notebook and you will start to create your first agent."
   ]
  },
  {
   "cell_type": "code",
   "execution_count": 5,
   "id": "399d6121-09b0-4d26-8d9d-b82b546f995c",
   "metadata": {},
   "outputs": [],
   "source": [
    "import boto3\n",
    "import os\n",
    "import json\n",
    "import time\n",
    "\n",
    "sts_client = boto3.client('sts')\n",
    "session = boto3.session.Session()\n",
    "\n",
    "account_id = sts_client.get_caller_identity()[\"Account\"]\n",
    "region = session.region_name\n",
    "account_id_suffix = account_id[:3]\n",
    "agent_suffix = f\"{region}-{account_id_suffix}\"\n",
    "\n",
    "s3_client = boto3.client('s3', region)\n",
    "bedrock_client = boto3.client('bedrock-runtime', region)\n",
    "\n",
    "agent_foundation_model = [\n",
    "    'anthropic.claude-3-5-sonnet-20240620-v1:0',\n",
    "    'anthropic.claude-3-sonnet-20240229-v1:0',\n",
    "    'anthropic.claude-3-haiku-20240307-v1:0',\n",
    "    'amazon.nova-lite-v1:0',\n",
    "    'amazon.nova-pro-v1:0',\n",
    "    'amazon.nova-micro-v1:0'\n",
    "]"
   ]
  },
  {
   "cell_type": "code",
   "execution_count": 6,
   "id": "afef5c92-5c9b-4488-a82b-7cf06e39e253",
   "metadata": {},
   "outputs": [],
   "source": [
    "portfolio_agent_name = f\"portfolio-{agent_suffix}\"\n",
    "\n",
    "portfolio_lambda_name = f\"fn-portfolio-agent-{agent_suffix}\"\n",
    "\n",
    "portfolio_agent_role_name = f'AmazonBedrockExecutionRoleForAgents_{portfolio_agent_name}'\n"
   ]
  },
  {
   "cell_type": "markdown",
   "id": "225603b7-e210-444b-b7e3-cd59c26f9345",
   "metadata": {},
   "source": [
    "### Importing helper functions\n",
    "\n",
    "On following section, we're adding `bedrock_agent_helper.py` and `knowledge_base_helper` on Python path, so the files can be recognized and their functionalities can be invoked.\n",
    "\n",
    "Now, you're going to import from helper classes `bedrock_agent_helper.py` and `knowledge_base_helper.py`.\n",
    " \n",
    "Those files contain helper classes totally focused on make labs experience smoothly. \n",
    "\n",
    "All interactions with Bedrock will be handled by these classes.\n",
    "\n",
    "Following are methods that you're going to invoke on this lab:\n",
    "\n",
    "On `agents.py`:\n",
    "- `create_agent`: Create a new agent and respective IAM roles\n",
    "- `add_action_group_with_lambda`: Create a lambda function and add it as an action group for a previous created agent\n",
    "- `create_agent_alias`: Create an alias for this agent\n",
    "- `invoke`: Execute agent\n",
    "\n",
    "On `knowledge_bases.py`:\n",
    "- `create_or_retrieve_knowledge_base`: Create Knowledge Base on Amazon Bedrock if it doesn't exist or get info about previous created.\n",
    "- `synchronize_data`: Read files on S3, convert text info into vectors and add that information on Vector Database."
   ]
  },
  {
   "cell_type": "code",
   "execution_count": 7,
   "id": "dba1d9e7-b0cc-4c8d-97e7-b20abd49195f",
   "metadata": {},
   "outputs": [],
   "source": [
    "import sys\n",
    "\n",
    "sys.path.insert(0, \".\")\n",
    "sys.path.insert(1, \"..\")\n",
    "\n",
    "from utils.bedrock_agent_helper import (\n",
    "    AgentsForAmazonBedrock\n",
    ")\n",
    "from utils.knowledge_base_helper import (\n",
    "    KnowledgeBasesForAmazonBedrock\n",
    ")\n",
    "agents = AgentsForAmazonBedrock()\n",
    "kb = KnowledgeBasesForAmazonBedrock()"
   ]
  },
  {
   "cell_type": "markdown",
   "id": "12a0d1d8-f267-47a8-9cf0-455590a9901c",
   "metadata": {},
   "source": [
    "## Creating Agent\n",
    "\n",
    "Create the forecast agent that will have an `Amazon Bedrock Knowledge Base` with information on how forecast process is done as well as the `action groups` to handle the user requests.\n",
    "\n",
    "In order to have accurate agents, it is important to set unambiguous instructions of what the agent should do and what it should not do. It is also important to provide clear definitions for when the agent should use the knowledge bases and action groups available to it.\n",
    "\n",
    "We will provide the following instructions to our agent:\n",
    "```\n",
    "You are an investment analyst. Your job is to assist in investment analysis, create research summaries, generate profitable company portfolios, and facilitate communication through emails. Here is how I want you to think step by step:\n",
    "\n",
    "1. Portfolio Creation:\n",
    "    Analyze the user's request to extract key information such as the desired number of companies and industry. \n",
    "    Based on the criteria from the request, create a portfolio of companies. Use the template provided to format the portfolio.\n",
    "\n",
    "2. Company Research and Document Summarization:\n",
    "    For each company in the portfolio, conduct detailed research to gather relevant financial and operational data.\n",
    "    When a document, like the FOMC report, is mentioned, retrieve the document and provide a concise summary.\n",
    "\n",
    "3. Email Communication:\n",
    "    Using the email template provided, format an email that includes the newly created company portfolio and any summaries of important documents.\n",
    "    Utilize the provided tools to send an email upon request, That includes a summary of provided responses and portfolios created.\n",
    "\n",
    "Core behaviors:\n",
    "1. Always use available information systems before asking customers for additional details\n",
    "2. Maintain a professional yet conversational tone\n",
    "3. Provide clear, direct answers without referencing internal systems or data sources\n",
    "4. Present information in an easy-to-understand manner\n",
    "5. DO NOT plot graphs. Refuse to do so when asked by the user. Instead provide an overview of the data\n",
    "\n",
    "Response style:\n",
    "- Be helpful and solution-oriented\n",
    "- Use clear, non-technical language\n",
    "- Focus on providing actionable insights\n",
    "- Maintain natural conversation flow\n",
    "- Be concise yet informative \n",
    "- do not add extra information not required by the user\n",
    "```\n"
   ]
  },
  {
   "cell_type": "code",
   "execution_count": null,
   "id": "56d2216d-053a-46e1-8496-3fa13a8ee5ac",
   "metadata": {},
   "outputs": [],
   "source": [
    "agent_description = \"\"\"You are an investment analyst. Your job is to assist in investment analysis, create research summaries, generate profitable company portfolios, and facilitate communication through emails\"\"\"\n",
    "\n",
    "agent_instruction = \"\"\"You are an investment analyst. Your job is to assist in investment analysis, create research summaries, generate profitable company portfolios, and facilitate communication through emails. Here is how I want you to think step by step:\n",
    "\n",
    "1. Portfolio Creation:\n",
    "    Analyze the user's request to extract key information such as the desired number of companies and industry. \n",
    "    Based on the criteria from the request, create a portfolio of companies. Use the template provided to format the portfolio.\n",
    "\n",
    "2. Company Research and Document Summarization:\n",
    "    For each company in the portfolio, conduct detailed research to gather relevant financial and operational data.\n",
    "    When a document, like the FOMC report, is mentioned, retrieve the document and provide a concise summary.\n",
    "\n",
    "3. Email Communication:\n",
    "    Using the email template provided, format an email that includes the newly created company portfolio and any summaries of important documents.\n",
    "    Utilize the provided tools to send an email upon request, That includes a summary of provided responses and portfolios created.\n",
    "Core behaviors:\n",
    "1. Always use available information systems before asking customers for additional details\n",
    "2. Maintain a professional yet conversational tone\n",
    "3. Provide clear, direct answers without referencing internal systems or data sources\n",
    "4. Present information in an easy-to-understand manner\n",
    "5. DO NOT plot graphs. Refuse to do so when asked by the user. Instead provide an overview of the data\n",
    "\n",
    "Response style:\n",
    "- Be helpful and solution-oriented\n",
    "- Use clear, non-technical language\n",
    "- Focus on providing actionable insights\n",
    "- Maintain natural conversation flow\n",
    "- Be concise yet informative \n",
    "- do not add extra information not required by the user\"\"\"\n",
    "\n",
    "portfolio_agent = agents.create_agent(\n",
    "    portfolio_agent_name,\n",
    "    agent_description,\n",
    "    agent_instruction,\n",
    "    agent_foundation_model,\n",
    "    code_interpretation=True\n",
    ")\n",
    "\n",
    "portfolio_agent"
   ]
  },
  {
   "cell_type": "markdown",
   "id": "6f0bd22f-d0cb-4a5c-9035-3bfe6f5a2e33",
   "metadata": {},
   "source": [
    "### Creating Lambda\n",
    "\n",
    "In order to enable the agent to execute tasks, we will create an AWS Lambda function that implements the tasks execution. We will then provide this lambda function to the agent action group. You can find more information on how to use action groups to define actions that your agent can perform [here](https://docs.aws.amazon.com/bedrock/latest/userguide/agents-action-create.html)\n",
    "\n",
    "On this block, we're going to generate Lambda function Code:"
   ]
  },
  {
   "cell_type": "code",
   "execution_count": 9,
   "id": "8a4d1c4e-ab20-4497-ada0-5d4e3e02b8d6",
   "metadata": {},
   "outputs": [],
   "source": [
    "import boto3\n",
    "import json\n",
    "import os\n",
    "\n",
    "def get_named_parameter(event, name):\n",
    "    return next(item for item in event['parameters'] if item['name'] == name)['value']\n",
    "\n",
    "def companyResearch(event):\n",
    "    companyName = get_named_parameter(event, 'name').lower()\n",
    "    print(\"NAME PRINTED: \", companyName)\n",
    "    for company_info in company_data:\n",
    "        if company_info[\"companyName\"].lower() == companyName:\n",
    "            return company_info\n",
    "    return None\n",
    "\n",
    "def createPortfolio(event, company_data):\n",
    "    numCompanies = int(get_named_parameter(event, 'numCompanies'))\n",
    "    industry = get_named_parameter(event, 'industry').lower()\n",
    "    industry_filtered_companies = [company for company in company_data if company['industrySector'].lower() == industry]\n",
    "    sorted_companies = sorted(industry_filtered_companies, key=lambda x: x['profit'], reverse=True)\n",
    "    top_companies = sorted_companies[:numCompanies]\n",
    "    return top_companies\n",
    "\n",
    "def sendEmail(event, company_data):\n",
    "    emailAddress = get_named_parameter(event, 'emailAddress')\n",
    "    fomcSummary = get_named_parameter(event, 'fomcSummary')\n",
    "    # Retrieve the portfolio data as a string\n",
    "\n",
    "    portfolioDataString = get_named_parameter(event, 'portfolio')\n",
    "\n",
    "    # Prepare the email content\n",
    "    email_subject = \"Portfolio Creation Summary and FOMC Search Results\"\n",
    "    email_body = f\"FOMC Search Summary:\\n{fomcSummary}\\n\\nPortfolio Details:\\n{json.dumps(portfolioDataString, indent=4)}\"\n",
    "\n",
    "    # Email Code is Set here\n",
    "    CHARSET = \"UTF-8\"\n",
    "    response = client.send_email(\n",
    "            Destination={\n",
    "                \"ToAddresses\": [\n",
    "                    \"aswathsr@amazon.com\",\n",
    "                ],\n",
    "                \n",
    "                },\n",
    "            Message={\n",
    "                \"Body\": {\n",
    "                    \"Text\": {\n",
    "                        \"Charset\": CHARSET,\n",
    "                        \"Data\": email_body,\n",
    "                    \n",
    "                    }\n",
    "                },\n",
    "                \"Subject\": {\n",
    "                    \"Charset\": CHARSET,\n",
    "                    \"Data\": email_subject,\n",
    "                \n",
    "                },\n",
    "                \n",
    "            },\n",
    "            Source=\"aswathsr@amazon.com\",\n",
    "    )\n",
    "    \n",
    "    return \"Email sent successfully to {}\".format(emailAddress)\n",
    "\n",
    "def lambda_handler(event, context):\n",
    "    print(event)\n",
    "    company_data = [\n",
    "        #Technology Industry\n",
    "        {\"companyId\": 1, \"companyName\": \"TechStashNova Inc.\", \"industrySector\": \"Technology\", \"revenue\": 10000, \"expenses\": 3000, \"profit\": 7000, \"employees\": 10},\n",
    "        {\"companyId\": 2, \"companyName\": \"QuantumPirateLeap Technologies\", \"industrySector\": \"Technology\", \"revenue\": 20000, \"expenses\": 4000, \"profit\": 16000, \"employees\": 10},\n",
    "        {\"companyId\": 3, \"companyName\": \"CyberCipherSecure IT\", \"industrySector\": \"Technology\", \"revenue\": 30000, \"expenses\": 5000, \"profit\": 25000, \"employees\": 10},\n",
    "        {\"companyId\": 4, \"companyName\": \"DigitalMyricalDreams Gaming\", \"industrySector\": \"Technology\", \"revenue\": 40000, \"expenses\": 6000, \"profit\": 34000, \"employees\": 10},\n",
    "        {\"companyId\": 5, \"companyName\": \"NanoMedNoLand Pharmaceuticals\", \"industrySector\": \"Technology\", \"revenue\": 50000, \"expenses\": 7000, \"profit\": 43000, \"employees\": 10},\n",
    "        {\"companyId\": 6, \"companyName\": \"RoboSuperBombTech Industries\", \"industrySector\": \"Technology\", \"revenue\": 60000, \"expenses\": 8000, \"profit\": 52000, \"employees\": 12},\n",
    "        {\"companyId\": 7, \"companyName\": \"FuturePastNet Solutions\", \"industrySector\": \"Technology\",  \"revenue\": 60000, \"expenses\": 9000, \"profit\": 51000, \"employees\": 10},\n",
    "        {\"companyId\": 8, \"companyName\": \"InnovativeCreativeAI Corp\", \"industrySector\": \"Technology\", \"revenue\": 65000, \"expenses\": 10000, \"profit\": 55000, \"employees\": 15},\n",
    "        {\"companyId\": 9, \"companyName\": \"EcoLeekoTech Energy\", \"industrySector\": \"Technology\", \"revenue\": 70000, \"expenses\": 11000, \"profit\": 59000, \"employees\": 10},\n",
    "        {\"companyId\": 10, \"companyName\": \"TechyWealthHealth Systems\", \"industrySector\": \"Technology\", \"revenue\": 80000, \"expenses\": 12000, \"profit\": 68000, \"employees\": 10},\n",
    "    \n",
    "        #Real Estate Industry\n",
    "        {\"companyId\": 11, \"companyName\": \"LuxuryToNiceLiving Real Estate\", \"industrySector\": \"Real Estate\", \"revenue\": 90000, \"expenses\": 13000, \"profit\": 77000, \"employees\": 10},\n",
    "        {\"companyId\": 12, \"companyName\": \"UrbanTurbanDevelopers Inc.\", \"industrySector\": \"Real Estate\", \"revenue\": 100000, \"expenses\": 14000, \"profit\": 86000, \"employees\": 10},\n",
    "        {\"companyId\": 13, \"companyName\": \"SkyLowHigh Towers\", \"industrySector\": \"Real Estate\", \"revenue\": 110000, \"expenses\": 15000, \"profit\": 95000, \"employees\": 18},\n",
    "        {\"companyId\": 14, \"companyName\": \"GreenBrownSpace Properties\", \"industrySector\": \"Real Estate\", \"revenue\": 120000, \"expenses\": 16000, \"profit\": 104000, \"employees\": 10},\n",
    "        {\"companyId\": 15, \"companyName\": \"ModernFutureHomes Ltd.\", \"industrySector\": \"Real Estate\", \"revenue\": 130000, \"expenses\": 17000, \"profit\": 113000, \"employees\": 10},\n",
    "        {\"companyId\": 16, \"companyName\": \"CityCountycape Estates\", \"industrySector\": \"Real Estate\", \"revenue\": 140000, \"expenses\": 18000, \"profit\": 122000, \"employees\": 10},\n",
    "        {\"companyId\": 17, \"companyName\": \"CoastalFocalRealty Group\", \"industrySector\": \"Real Estate\", \"revenue\": 150000, \"expenses\": 19000, \"profit\": 131000, \"employees\": 10},\n",
    "        {\"companyId\": 18, \"companyName\": \"InnovativeModernLiving Spaces\", \"industrySector\": \"Real Estate\", \"revenue\": 160000, \"expenses\": 20000, \"profit\": 140000, \"employees\": 10},\n",
    "        {\"companyId\": 19, \"companyName\": \"GlobalRegional Properties Alliance\", \"industrySector\": \"Real Estate\", \"revenue\": 170000, \"expenses\": 21000, \"profit\": 149000, \"employees\": 11},\n",
    "        {\"companyId\": 20, \"companyName\": \"NextGenPast Residences\", \"industrySector\": \"Real Estate\", \"revenue\": 180000, \"expenses\": 22000, \"profit\": 158000, \"employees\": 260}\n",
    "    ]\n",
    "\n",
    "    result = ''\n",
    "    response_code = 200\n",
    "    action_group = event['actionGroup']\n",
    "    api_path = event['apiPath']\n",
    "    \n",
    "    print(\"api_path: \", api_path )\n",
    "    \n",
    "    if api_path == '/companyResearch':\n",
    "        result = companyResearch(event)\n",
    "    elif api_path == '/createPortfolio':\n",
    "        result = createPortfolio(event, company_data)\n",
    "    elif api_path == '/sendEmail':\n",
    "        result = sendEmail(event, company_data)\n",
    "    else:\n",
    "        response_code = 404\n",
    "        result = f\"Unrecognized api path: {action_group}::{api_path}\"\n",
    "        \n",
    "    response_body = {\n",
    "        'application/json': {\n",
    "            'body': result\n",
    "        }\n",
    "    }\n",
    "        \n",
    "    action_response = {\n",
    "        'actionGroup': event['actionGroup'],\n",
    "        'apiPath': event['apiPath'],\n",
    "        'httpMethod': event['httpMethod'],\n",
    "        'httpStatusCode': response_code,\n",
    "        'responseBody': response_body\n",
    "    }\n",
    "\n",
    "    api_response = {'messageVersion': '1.0', 'response': action_response}\n",
    "    return api_response"
   ]
  },
  {
   "cell_type": "markdown",
   "id": "2a2838c3-c072-4f99-a92d-6d090a9e8c34",
   "metadata": {},
   "source": [
    "### Defining available actions\n",
    "\n",
    "Next we will define the available actions that an agent can perform using [Function Details](https://docs.aws.amazon.com/bedrock/latest/userguide/agents-action-function.html). You can also do this task using OpenAPI Schemas, which can be very useful if you already have an OpenAPI schema available for your application.\n",
    "\n",
    "When creating your function details, it is important to provide clear descriptions for the function and for its parameters, as your agent depends on them to correctly orchestrate the tasks to be executed"
   ]
  },
  {
   "cell_type": "code",
   "execution_count": 20,
   "id": "d660bf2d-d73d-409d-a0bb-6f97c7a214b1",
   "metadata": {},
   "outputs": [],
   "source": [
    "functions_def = [\n",
    "    {\n",
    "        \"name\": \"companyResearch\",\n",
    "        \"description\": \"Get financial data for a company by name\",\n",
    "        \"parameters\": {\n",
    "            \"name\": {\n",
    "                \"description\": \"Name of the company to research\",\n",
    "                \"required\": True,\n",
    "                \"type\": \"string\"\n",
    "            }\n",
    "        }\n",
    "    },\n",
    "    {\n",
    "        \"name\": \"createPortfolio\",\n",
    "        \"description\": \"Create a company portfolio of top profit earners by specifying number of companies and industry\",\n",
    "        \"parameters\": {\n",
    "            \"numCompanies\": {\n",
    "                \"description\": \"Number of companies to include in the portfolio\",\n",
    "                \"required\": True,\n",
    "                \"type\": \"integer\"\n",
    "            },\n",
    "            \"industry\": {\n",
    "                \"description\": \"Industry sector for the portfolio companies\",\n",
    "                \"required\": True,\n",
    "                \"type\": \"string\"\n",
    "            }\n",
    "        }\n",
    "    },\n",
    "    {\n",
    "        \"name\": \"sendEMail\",\n",
    "        \"description\": \"Send an email with FOMC search summary and created portfolio\",\n",
    "        \"parameters\": {\n",
    "            \"emailAddress\": {\n",
    "                \"description\": \"Recipient's email address\",\n",
    "                \"required\": True,\n",
    "                \"type\": \"string\"\n",
    "            },\n",
    "            \"fomcSummary\": {\n",
    "                \"description\": \"Summary of FOMC search results\",\n",
    "                \"required\": True,\n",
    "                \"type\": \"string\"\n",
    "            },\n",
    "            \"portfolio\": {\n",
    "                \"description\": \"Details of the created stock portfolio (as a JSON string)\",\n",
    "                \"required\": True,\n",
    "                \"type\": \"string\"  # Changed from \"object\" to \"string\"\n",
    "            }\n",
    "        }\n",
    "    }\n",
    "]"
   ]
  },
  {
   "cell_type": "markdown",
   "id": "b985140d-1be4-460c-8acf-8bce4ab9183c",
   "metadata": {},
   "source": [
    "## Schema \n",
    "\n",
    "The OpenAPI schema is also provided for the example for better understanding. \n"
   ]
  },
  {
   "cell_type": "markdown",
   "id": "af0903e6-4061-42cf-bd4f-95537913ea7f",
   "metadata": {},
   "source": [
    "### Creating action group and attaching to the agent\n",
    "Now it's time to add this Lambda function and the function details as an action group for this agent and prepare it."
   ]
  },
  {
   "cell_type": "code",
   "execution_count": 21,
   "id": "6331052d-2c40-44b6-911e-27925b355bf8",
   "metadata": {},
   "outputs": [],
   "source": [
    "\n",
    "agents.add_action_group_with_lambda(\n",
    "    agent_name=portfolio_agent_name,\n",
    "    lambda_function_name=portfolio_lambda_name,\n",
    "    source_code_file=\"portfolio.py\",\n",
    "    agent_functions=functions_def,\n",
    "    agent_action_group_name=\"Portfolio_actions\",\n",
    "    agent_action_group_description=\"Function to get portfolio and send emails \",\n",
    ")"
   ]
  },
  {
   "cell_type": "markdown",
   "id": "eca124dc-980c-4e3e-b9e4-d6c961f59c69",
   "metadata": {},
   "source": [
    "## Testing Agent\n",
    "\n",
    "Now, let's run some tests on the agent we just created to make sure it's working. To do so we will use our test alias: `TSTALIASID` which allows you to invoke a draft version of your agent"
   ]
  },
  {
   "cell_type": "markdown",
   "id": "5b258c8c-17b1-4140-b9a6-7b9deaa838ab",
   "metadata": {},
   "source": [
    "### Testing portfolio action\n",
    "Now we can test the test the portfolio action"
   ]
  },
  {
   "cell_type": "code",
   "execution_count": null,
   "id": "532aee87-1b2b-4ecc-ac31-21571aeabec3",
   "metadata": {},
   "outputs": [],
   "source": [
    "%%time\n",
    "response = agents.invoke(\n",
    "    \"\"\"can you give me the portfolio for all Realestate companies present\"\"\", \n",
    "    portfolio_agent[0], enable_trace=True\n",
    ")\n",
    "print(\"====================\")\n",
    "print(response)"
   ]
  },
  {
   "cell_type": "code",
   "execution_count": 31,
   "id": "50a0109e-e16f-4c23-9922-31dac526e59f",
   "metadata": {},
   "outputs": [],
   "source": [
    "time.sleep(60)"
   ]
  },
  {
   "cell_type": "markdown",
   "id": "c5bb8cb7-9e0e-4129-87ea-514ad5244579",
   "metadata": {},
   "source": [
    "## Create alias\n",
    "\n",
    "As you can see, you can use your agent with the `TSTALIASID` to complete tasks. \n",
    "However, for multi-agents collaboration it is expected that you first test your agent and only use it once it is fully functional. \n",
    "Therefore to use an agent as a sub-agent in a multi-agent collaboration you first need to create an agent alias and connect it to a new version. \n",
    "\n",
    "Since we've tested and validated our agent, let's now create an alias for it:"
   ]
  },
  {
   "cell_type": "code",
   "execution_count": 32,
   "id": "35727aaa-f4f4-4e5f-82e1-3868e4760f8b",
   "metadata": {},
   "outputs": [],
   "source": [
    "portfolio_agent_agent_alias_id, portfolio_agent_alias_arn = agents.create_agent_alias(\n",
    "    portfolio_agent[0], 'v1'\n",
    ")"
   ]
  },
  {
   "cell_type": "markdown",
   "id": "ae2b48a7-4c39-4df4-b246-382183a8e593",
   "metadata": {},
   "source": [
    "## Now we have created our portfolio agent, let us create our Data Assistant Agent. \n",
    "\n",
    "\n",
    "\n",
    "In this example,. We are also using [Amazon Bedrock Knowledge Bases](https://aws.amazon.com/bedrock/knowledge-bases/) to store data that contains relevant information. This is completely up to the users on what reports they have to store, for easier method we are storing the FOMC reports, and stock related details on to the bucket"
   ]
  },
  {
   "cell_type": "markdown",
   "id": "0b69322c-6773-4ec2-88ee-a0b8080b1562",
   "metadata": {},
   "source": [
    "#### Creating the Agent"
   ]
  },
  {
   "cell_type": "code",
   "execution_count": 33,
   "id": "924dc953-18e8-40d9-8c67-6deaf68bf22a",
   "metadata": {},
   "outputs": [],
   "source": [
    "import boto3\n",
    "import os\n",
    "import json\n",
    "import time\n",
    "import boto3\n",
    "from datetime import datetime, timedelta\n",
    "import random\n",
    "sts_client = boto3.client('sts')\n",
    "session = boto3.session.Session()\n",
    "\n",
    "account_id = sts_client.get_caller_identity()[\"Account\"]\n",
    "region = session.region_name\n",
    "account_id_suffix = account_id[:3]\n",
    "agent_suffix = f\"{region}-{account_id_suffix}\"\n",
    "\n",
    "s3_client = boto3.client('s3', region)\n",
    "bedrock_client = boto3.client('bedrock-runtime', region)\n",
    "\n",
    "agent_foundation_model = [\n",
    "    'anthropic.claude-3-5-sonnet-20240620-v1:0',\n",
    "    'anthropic.claude-3-sonnet-20240229-v1:0',\n",
    "    'anthropic.claude-3-haiku-20240307-v1:0'\n",
    "]"
   ]
  },
  {
   "cell_type": "code",
   "execution_count": 36,
   "id": "11c3f74e-88d2-41b4-ab13-52d99f438a19",
   "metadata": {},
   "outputs": [],
   "source": [
    "data_assistant_agent_name = f\"data-{agent_suffix}\"\n",
    "\n",
    "\n",
    "data_assistant_agent_role_name = f'AmazonBedrockExecutionRoleForAgents_{data_assistant_agent_name}'\n",
    "\n",
    "\n",
    "knowledge_base_name = f'{data_assistant_agent_name}-kb'\n",
    "suffix = f\"{region}-{account_id}\"\n",
    "\n",
    "knowledge_base_description = \"KB containing information contaning relevant data\"\n",
    "bucket_name = f'data-assistant-kb-{suffix}'"
   ]
  },
  {
   "cell_type": "markdown",
   "id": "2c1ffe68-e267-4dbb-970e-30d7d0b6e27a",
   "metadata": {},
   "source": [
    "## Create and syncronize Knowledge Base\n",
    "\n",
    "On this section, you're going to create a Amazon Bedrock Knowledge Base and ingest data on it.\n",
    "\n",
    "This data contains basic information about how forecast process is done.\n",
    "\n",
    "**This creation process can take several minutes.**"
   ]
  },
  {
   "cell_type": "code",
   "execution_count": null,
   "id": "7fd78f8f-a305-4142-af96-3a0a030f3e3e",
   "metadata": {},
   "outputs": [],
   "source": [
    "%%time\n",
    "kb_id, ds_id = kb.create_or_retrieve_knowledge_base(\n",
    "    knowledge_base_name,\n",
    "    knowledge_base_description,\n",
    "    bucket_name\n",
    ")\n",
    "\n",
    "print(f\"Knowledge Base ID: {kb_id}\")\n",
    "print(f\"Data Source ID: {ds_id}\")"
   ]
  },
  {
   "cell_type": "markdown",
   "id": "90c7b53d-3070-4e84-82c0-c68175ab80d3",
   "metadata": {},
   "source": [
    "## Upload Data to Load on S3\n",
    "\n",
    "\n",
    "This data should be uploaded into a S3 bucket and then added into an Amazon Bedrock Knowledge Base. The example data is provided in the repository"
   ]
  },
  {
   "cell_type": "code",
   "execution_count": null,
   "id": "ac4315c4-2f28-4b89-99ec-5553952e11fa",
   "metadata": {},
   "outputs": [],
   "source": [
    "# AWS S3 configuration\n",
    "S3_BUCKET_NAME = 'data-assistant-kb-{suffix}'  # Replace with your S3 bucket name\n",
    "AWS_REGION = 'us-east-1'  # Replace with your AWS region"
   ]
  },
  {
   "cell_type": "code",
   "execution_count": null,
   "id": "aa6ef2d1-abdf-4f01-82d5-f1616c6a4d91",
   "metadata": {},
   "outputs": [],
   "source": [
    "s3_client = boto3.client('s3')"
   ]
  },
  {
   "cell_type": "code",
   "execution_count": null,
   "id": "7f80f907-46f4-42ce-bfcd-e138de660928",
   "metadata": {},
   "outputs": [],
   "source": [
    "LOCAL_FOLDER_PATH = 'Financial-Analyst-Agents/Data'\n",
    "\n",
    "\n",
    "def upload_files(local_folder_path, S3_BUCKET_NAME):\n",
    "    \"\"\"\n",
    "    Uploads all files from the local folder to the specified S3 bucket.\n",
    "\n",
    "    Args:\n",
    "        local_folder_path: The path to the local folder containing the files.\n",
    "        BUCKET_NAME: The name of the S3 bucket.\n",
    "    \"\"\"\n",
    "    for filename in os.listdir(local_folder_path):\n",
    "        if os.path.isfile(os.path.join(local_folder_path, filename)):\n",
    "            # Construct the full path to the local file\n",
    "            local_file_path = os.path.join(local_folder_path, filename)\n",
    "\n",
    "            # Upload the file to S3\n",
    "            try:\n",
    "                s3_client.upload_file(local_file_path, S3_BUCKET_NAME, filename)\n",
    "                print(f\"Successfully Uploaded {filename} to {S3_BUCKET_NAME}\")\n",
    "            except Exception as e:\n",
    "                print(f\"Error uploading the file {str(e)}\")\n",
    "\n",
    "upload_files(LOCAL_FOLDER_PATH, BUCKET_NAME)"
   ]
  },
  {
   "cell_type": "markdown",
   "id": "43780027-0ae6-4a14-86ce-9f295c47253a",
   "metadata": {},
   "source": [
    "### Synchronizing Knowledge Base\n",
    "Now that the data is available in the s3 bucket, let's synchronize it to our knowledge base"
   ]
  },
  {
   "cell_type": "code",
   "execution_count": null,
   "id": "24adf15c-9ffd-4daf-a126-2d2d062e6123",
   "metadata": {},
   "outputs": [],
   "source": [
    "\n",
    "# sync knowledge base\n",
    "kb.synchronize_data(kb_id, ds_id)"
   ]
  },
  {
   "cell_type": "code",
   "execution_count": null,
   "id": "e0dc108c-85b9-4f0b-af5b-d0ccb8fdb0e4",
   "metadata": {},
   "outputs": [],
   "source": [
    "kb_info = kb.get_kb(kb_id)\n",
    "kb_arn = kb_info['knowledgeBase']['knowledgeBaseArn']"
   ]
  },
  {
   "cell_type": "code",
   "execution_count": null,
   "id": "06338acc-0588-4202-bdbd-5a27a0dba2ed",
   "metadata": {},
   "outputs": [],
   "source": [
    "kb_config = {\n",
    "    'kb_id': kb_id,\n",
    "    'kb_instruction': \"\"\"Use this knowledge base when a user asks about data, such as economic trends, company financial statements, or the outcomes of the Federal Open Market Committee meetings,sp500 and nasdaq\"\"\"\n",
    "}"
   ]
  },
  {
   "cell_type": "code",
   "execution_count": null,
   "id": "aacb4585-404b-454f-83a2-11f47012b464",
   "metadata": {},
   "outputs": [],
   "source": [
    "agent_description = \"\"\"You are a Data Assistant Bot that will get contextual and relevant information from the knowledge base regarding the financial data questions that the user will have, \"\"\"\n",
    "\n",
    "agent_instruction = \"\"\"You will answer only from KnowledgeBase and nothing else \n",
    "\n",
    "You will help in agent orchestration for providing data if it is about any details asked on fomc or stock data from nasdaq or KB\n",
    "Your Scope of Support is ONLY restricted to the scope of the knowledge Base\n",
    "You will ALWAYS provide relevant context and references on trace\n",
    "\"\"\"\n",
    "data_assistant_agent = agents.create_agent(\n",
    "    data_assistant_agent_name,\n",
    "    agent_description,\n",
    "    agent_instruction,\n",
    "    agent_foundation_model,\n",
    "    kb_arns=[kb_arn],\n",
    "    code_interpretation=True\n",
    ")\n",
    "\n",
    "data_assistant_agent"
   ]
  },
  {
   "cell_type": "markdown",
   "id": "dbaaddc8-84ad-4051-9e26-db5a5f723bc5",
   "metadata": {},
   "source": [
    "### Associating knowledge base\n",
    "Now that we've created the agent, let's associate the previously created knowledge base to it."
   ]
  },
  {
   "cell_type": "code",
   "execution_count": null,
   "id": "50773261-2701-40d4-8ca1-67d7343ab697",
   "metadata": {},
   "outputs": [],
   "source": [
    "agents.associate_kb_with_agent(\n",
    "    data_assistant_agent[0],\n",
    "    kb_config['kb_instruction'],\n",
    "    kb_config['kb_id']\n",
    ")"
   ]
  },
  {
   "cell_type": "markdown",
   "id": "d48c1fcd-0c56-4f9c-883b-1d2c50cf4458",
   "metadata": {},
   "source": [
    "## Testing Agent\n",
    "\n",
    "Now, let's run some tests on the agent we just created to make sure it's working. To do so we will use our test alias: `TSTALIASID` which allows you to invoke a draft version of your agent"
   ]
  },
  {
   "cell_type": "code",
   "execution_count": null,
   "id": "150c3d00-2d79-4d59-bf40-1ea568d773a7",
   "metadata": {},
   "outputs": [],
   "source": [
    "%%time\n",
    "response = agents.invoke(\n",
    "    \"\"\"can you give the minutes of fomc reports present \"\"\", \n",
    "    data_assistant_agent[0], enable_trace=True\n",
    ")\n",
    "print(\"====================\")\n",
    "print(response)"
   ]
  },
  {
   "cell_type": "markdown",
   "id": "ae7c87be-90bd-4a1e-bc2b-e95c1844ed37",
   "metadata": {},
   "source": [
    "## Create alias\n",
    "\n",
    "As you can see, you can use your agent with the `TSTALIASID` to complete tasks. \n",
    "However, for multi-agents collaboration it is expected that you first test your agent and only use it once it is fully functional. \n",
    "Therefore to use an agent as a sub-agent in a multi-agent collaboration you first need to create an agent alias and connect it to a new version. \n",
    "\n",
    "Since we've tested and validated our agent, let's now create an alias for it:"
   ]
  },
  {
   "cell_type": "code",
   "execution_count": null,
   "id": "f44ed522-d58c-4875-aad2-c2857c519063",
   "metadata": {},
   "outputs": [],
   "source": [
    "data_assistant_agent_alias_id, data_assistant_agent_alias_arn = agents.create_agent_alias(\n",
    "    data_assistant_agent[0], 'v1'\n",
    ")"
   ]
  },
  {
   "cell_type": "markdown",
   "id": "9aea3709-304e-4c7a-bcc3-572af5333704",
   "metadata": {},
   "source": [
    "## Saving information\n",
    "Let's store some environment variables to be used on our next notebooks."
   ]
  },
  {
   "cell_type": "code",
   "execution_count": null,
   "id": "80252ada-eefd-472a-9879-3bc023fd9652",
   "metadata": {},
   "outputs": [],
   "source": [
    "forecast_agent_arn = agents.get_agent_arn_by_name(forecast_agent_name)\n",
    "data_assistant_agent_id = data_assistant_agent[0]\n",
    "data_assistant_agent_kb = knowledge_base_name\n",
    "portfolio_agent_arn = agents.get_agent_arn_by_name(portfolio_agent_name)\n",
    "portfolio_agent_id = portfolio_agent[0]\n",
    "\n",
    "\n",
    "\n",
    "%store portfolio_agent_name\n",
    "%store portfolio_agent_arn\n",
    "%store portfolio_agent_id\n",
    "%store portfolio_lambda_name\n",
    "%store portfolio_agent_agent_alias_id\n",
    "%store portfolio_agent_agent_alias_arn\n",
    "%store data_assistant_agent_alias_arn\n",
    "%store data_assistant_agent_name\n",
    "%store data_assistant_agent_id\n",
    "%store data_assistant_agent_kb\n"
   ]
  },
  {
   "cell_type": "code",
   "execution_count": null,
   "id": "87e86ffd-0955-42bd-b356-f68106850037",
   "metadata": {},
   "outputs": [],
   "source": []
  }
 ],
 "metadata": {
  "kernelspec": {
   "display_name": "Python 3 (ipykernel)",
   "language": "python",
   "name": "python3"
  },
  "language_info": {
   "codemirror_mode": {
    "name": "ipython",
    "version": 3
   },
   "file_extension": ".py",
   "mimetype": "text/x-python",
   "name": "python",
   "nbconvert_exporter": "python",
   "pygments_lexer": "ipython3",
   "version": "3.11.11"
  }
 },
 "nbformat": 4,
 "nbformat_minor": 5
}
