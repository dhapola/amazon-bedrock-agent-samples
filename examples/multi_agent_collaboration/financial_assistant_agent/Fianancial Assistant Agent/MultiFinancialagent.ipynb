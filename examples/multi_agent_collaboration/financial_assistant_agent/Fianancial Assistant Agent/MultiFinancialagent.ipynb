{
 "cells": [
  {
   "cell_type": "markdown",
   "id": "b5bd2fa5-9e48-42b6-a66a-5f767d40a8a0",
   "metadata": {},
   "source": [
    "# Multi-Financial Agent Notebook\n",
    "This notebook demonstrates the implementation of a multi-financial agent system. It includes the association of supervisor agents with sub-agents and other related operations."
   ]
  },
  {
   "cell_type": "markdown",
   "id": "12f5c9d5-0866-4a62-a5e8-00258d008e8d",
   "metadata": {},
   "source": [
    "### Associating Supervisor Agent with Sub-Agents\n",
    "The following code associates a supervisor agent with a list of sub-agents. This is done using the `associate_sub_agents` method from the `agents` module.  \n",
    "- `supervisor_agent_id`: The unique identifier for the supervisor agent.  \n",
    "- `sub_agents_list`: A list of sub-agent IDs to be associated with the supervisor agent.  \n",
    "- The method returns:  \n",
    "  - `supervisor_agent_alias_id`: The alias ID for the supervisor agent.  \n",
    "  - `supervisor_agent_alias_arn`: The Amazon Resource Name (ARN) for the supervisor agent."
   ]
  },
  {
   "cell_type": "markdown",
   "id": "81d3f12a-0db8-4083-8831-def359760e2f",
   "metadata": {},
   "source": [
    "## Setup\n",
    "\n",
    "Firstly, you are going to install boto3 dependencies from pip. Make sure you have the latest version of it for full capabilities"
   ]
  },
  {
   "cell_type": "code",
   "execution_count": null,
   "id": "14222ea8-4dcd-4df3-8bde-9e0388c0cfcc",
   "metadata": {},
   "outputs": [],
   "source": [
    "!pip uninstall boto3 botocore awscli --yes\n"
   ]
  },
  {
   "cell_type": "code",
   "execution_count": null,
   "id": "34a9c56a-3ab5-43f1-83a1-ff6a0d74b10b",
   "metadata": {},
   "outputs": [],
   "source": [
    "# Install latest boto3"
   ]
  },
  {
   "cell_type": "code",
   "execution_count": null,
   "id": "4b79e6d1-63c5-45e1-8aa4-1376734f3ab9",
   "metadata": {},
   "outputs": [],
   "source": [
    "!python3 -m pip install --force-reinstall --no-cache -q --no-dependencies -r ../requirements.txt\n"
   ]
  },
  {
   "cell_type": "markdown",
   "id": "04ea77e9-1da2-4799-9233-e2cdb2563940",
   "metadata": {},
   "source": [
    "## Creating Agent\n",
    "\n",
    "On this section we declare global variables that will be act as helpers during entire notebook and you will start to create your Supervisor agent."
   ]
  },
  {
   "cell_type": "code",
   "execution_count": null,
   "id": "849058da-deb4-4607-8020-484bbfa6340e",
   "metadata": {},
   "outputs": [],
   "source": [
    "import os\n",
    "import sys\n",
    "import json\n",
    "import time\n",
    "import uuid\n",
    "import boto3\n",
    "import logging\n",
    "\n",
    "# Get the current file's directory\n",
    "current_dir = os.path.dirname(os.path.abspath('__file__'))\n",
    "\n",
    "# Get the parent directory\n",
    "parent_dir = os.path.dirname(current_dir)\n",
    "print(parent_dir)\n",
    "\n",
    "# Add the parent directory to sys.path\n",
    "sys.path.append(parent_dir)\n",
    "\n",
    "from globals import *"
   ]
  },
  {
   "cell_type": "markdown",
   "id": "aabbc12d-e2ca-4a43-8a53-44ee2b4d247b",
   "metadata": {},
   "source": [
    "### Importing helper functions\n",
    "\n",
    "On following section, we're adding `bedrock_agent_helper.py` on Python path, so the files can be recognized and their functionalities can be invoked.\n",
    "\n",
    "Now, you're going to import from helper classes `bedrock_agent_helper.py`.\n",
    " \n",
    "Those files contain helper classes totally focused on make labs experience smoothly. \n",
    "\n",
    "All interactions with Bedrock will be handled by these classes.\n",
    "\n",
    "Following are methods that you're going to invoke on this lab:\n",
    "\n",
    "On `agents.py`:\n",
    "\n",
    "- `create_agent`: Create a new agent and respective IAM roles\n",
    "- `associate_sub_agents`: Associate sub-agents with multi-agent collaborator"
   ]
  },
  {
   "cell_type": "code",
   "execution_count": null,
   "id": "52e1fb9f-1977-4b71-baa8-e40f42e5dea0",
   "metadata": {},
   "outputs": [],
   "source": [
    "\n",
    "from utils.bedrock_agent_helper import (\n",
    "    AgentsForAmazonBedrock\n",
    ")\n",
    "agents = AgentsForAmazonBedrock()"
   ]
  },
  {
   "cell_type": "code",
   "execution_count": null,
   "id": "780a6423-e304-49de-b2fb-871977e89ac2",
   "metadata": {},
   "outputs": [],
   "source": [
    "# set a logger\n",
    "logging.basicConfig(format='[%(asctime)s] p%(process)s {%(filename)s:%(lineno)d} %(levelname)s - %(message)s', level=logging.INFO)\n",
    "logger = logging.getLogger(__name__)"
   ]
  },
  {
   "cell_type": "markdown",
   "id": "1b93e959-1970-4506-8df4-129f9d53f6b1",
   "metadata": {},
   "source": [
    "### let us set the sessions right before we start looping in the agents."
   ]
  },
  {
   "cell_type": "code",
   "execution_count": null,
   "id": "089574b3-cae5-4d12-aadf-93c9102a3b95",
   "metadata": {},
   "outputs": [],
   "source": [
    "session = boto3.session.Session()\n",
    "sts_client = boto3.client('sts')\n",
    "account_id = sts_client.get_caller_identity()[\"Account\"]\n",
    "region = session.region_name\n",
    "\n",
    "logger.info(f\"current region: {region}\")"
   ]
  },
  {
   "cell_type": "code",
   "execution_count": null,
   "id": "03fe5ed3-9a3e-4682-b94e-f7cf887fa712",
   "metadata": {},
   "outputs": [],
   "source": [
    "\n",
    "data_assistant_agent_alias_arn = '#set the arn of the forecasting agent'\n",
    "\n",
    "\n",
    "portfolio_agent_alias_arn = '#set the arn of portfolio agent'"
   ]
  },
  {
   "cell_type": "markdown",
   "id": "7d03fb69-f3d9-4726-b4b6-23a163a2cb12",
   "metadata": {},
   "source": [
    "## Agent instruction \n",
    "\n",
    "Now that we have the agents assigned to the variables, we need to go and add the agent instructions for the main agent here"
   ]
  },
  {
   "cell_type": "code",
   "execution_count": null,
   "id": "fb51e444-520e-4b3e-aeff-0c18ad9ed901",
   "metadata": {},
   "outputs": [],
   "source": [
    "agent_instruction: str = \"\"\"You are an investment analyst. Your job is to assist in investment analysis, create research summaries, generate profitable company portfolios, and facilitate communication through emails. Here is how I want you to think step by step:\n",
    "\n",
    "1. Portfolio Creation:\n",
    "    Analyze the user's request to extract key information such as the desired number of companies and industry. \n",
    "    Based on the criteria from the request, create a portfolio of companies. Use the template provided to format the portfolio.\n",
    "\n",
    "2. Company Research and Document Summarization:\n",
    "    For each company in the portfolio, conduct detailed research to gather relevant financial and operational data.\n",
    "    When a document, like the FOMC report, is mentioned, retrieve the document and provide a concise summary.\n",
    "\n",
    "3. Email Communication:\n",
    "    Using the email template provided, format an email that includes the newly created company portfolio and any summaries of important documents.\n",
    "    Utilize the provided tools to send an email upon request, That includes a summary of provided responses and portfolios created.\n",
    "\"\""
   ]
  },
  {
   "cell_type": "markdown",
   "id": "ec898ecc-819a-4721-bae0-96787c4d10de",
   "metadata": {},
   "source": [
    "## Adding Sub Agents. \n",
    "\n",
    "The `sub_agents_list` will be used to encapsulate the agent alias and instructions for the multi_agent orchestrator to add them later on. "
   ]
  },
  {
   "cell_type": "code",
   "execution_count": null,
   "id": "0cd27380-f2d9-4170-847a-85a3833c2b71",
   "metadata": {},
   "outputs": [],
   "source": [
    "agent_name = 'Multiagent analysis'\n",
    "agent_description = \"Multi-agent collaboration for getting data and Portfolio management\"\n",
    "\n",
    "sub_agents_list = [\n",
    "    {\n",
    "        'sub_agent_alias_arn': data_assistant_agent_alias_arn,\n",
    "        'sub_agent_instruction': \"\"\"Use this agent when the user asks a question that requires to retrieve data that the user asks related to FOMC reports or other things\"\"\",\n",
    "        'sub_agent_association_name': 'data_assistant_agent-agent',\n",
    "        'relay_conversation_history': 'TO_COLLABORATOR'\n",
    "    },\n",
    "    {\n",
    "        'sub_agent_alias_arn': portfolio_agent_alias_arn,\n",
    "        'sub_agent_instruction': \"\"\"Use this agent when a user asks to assist in investment analysis, create research summaries, generate profitable company portfolios, and facilitate communication through emails\"\"\",\n",
    "        'sub_agent_association_name': 'portfolio_agent-agent',\n",
    "        'relay_conversation_history': 'TO_COLLABORATOR'\n",
    "    }\n",
    "]"
   ]
  },
  {
   "cell_type": "code",
   "execution_count": 2,
   "id": "90f2503f-edfb-4d77-98fc-7cad766aec6d",
   "metadata": {},
   "outputs": [],
   "source": [
    "## Creating Supervisor Agent"
   ]
  },
  {
   "cell_type": "code",
   "execution_count": null,
   "id": "433bc535-d054-4a39-91b8-0d1d14aad5e4",
   "metadata": {},
   "outputs": [],
   "source": [
    "if region == \"us-west-2\":\n",
    "    NOVA_LITE = f\"us.{NOVA_LITE}\"\n",
    "    logger.info(f\"Current region is {region}. Using the cross region inference profile model id: {NOVA_LITE}\")\n",
    "\n",
    "supervisor_agent = agents.create_agent(\n",
    "    agent_name,\n",
    "    agent_description,\n",
    "    agent_instruction,\n",
    "    NOVA_LITE,\n",
    "    agent_collaboration='SUPERVISOR_ROUTER'\n",
    ")\n",
    "supervisor_agent"
   ]
  },
  {
   "cell_type": "code",
   "execution_count": null,
   "id": "a17363b8-e300-43b6-8043-83f0acf121f7",
   "metadata": {},
   "outputs": [],
   "source": [
    "supervisor_agent_id = supervisor_agent[0]\n",
    "%store supervisor_agent_id\n",
    "%store agent_name"
   ]
  },
  {
   "cell_type": "markdown",
   "id": "a2ec5e8b-faa7-4204-96a4-0340215f4b17",
   "metadata": {},
   "source": [
    "## add the subagents to the supervisor agents"
   ]
  },
  {
   "cell_type": "code",
   "execution_count": null,
   "id": "f7d8b6aa-31c5-405c-b67a-18ceed9a9792",
   "metadata": {},
   "outputs": [],
   "source": [
    "supervisor_agent_alias_id, supervisor_agent_alias_arn = agents.associate_sub_agents(\n",
    "    supervisor_agent_id, sub_agents_list\n",
    ")"
   ]
  },
  {
   "cell_type": "markdown",
   "id": "a0f4d43a-3205-47ed-97ec-a1d595366e72",
   "metadata": {},
   "source": [
    "### Next Steps\n",
    "Congratulations! We've now created a supervisor agent. Next let's invoke our agent"
   ]
  },
  {
   "cell_type": "markdown",
   "id": "7e9e8ae6-d2a5-4889-9fd5-c97b5c6180ee",
   "metadata": {},
   "source": [
    "#### Multiple agents in parallel\n",
    "\n",
    "Finally, let's submit a query which will result in our supervisor agent requiring responses from multiple agents in parallel. This shows the behaviour of a supervisor agent using supervisor mode rather than router mode as we have seen in the previous examples."
   ]
  },
  {
   "cell_type": "code",
   "execution_count": null,
   "id": "101d8a8a-8b2e-477f-8c92-40f2891aedfb",
   "metadata": {},
   "outputs": [],
   "source": [
    "multi_agent_names = {\n",
    "    f'{data_assistant_agent_id}/{data_assistant_agent_alias_id}': SUB_AGENT_DATA_ASSISTANT_AGENT,\n",
    "    f'{portfolio_agent_agent_id}/{portfolio_agent_agent_alias_id}': SUB_AGENT_NAME_PORTFOLIO_AGENT,\n",
    "    \n",
    "}\n",
    "multi_agent_names\n",
    "%%time\n",
    "session_id:str = str(uuid.uuid1())\n",
    "\n",
    "response = agents.invoke(\n",
    "    \"\"\"Give me details about the Technologies companies\"\"\", \n",
    "    supervisor_agent_id,\n",
    "    session_id=session_id,\n",
    "    enable_trace=True,\n",
    "    multi_agent_names=multi_agent_names\n",
    ")\n",
    "print(\"====================\")\n",
    "print(response)"
   ]
  },
  {
   "cell_type": "markdown",
   "id": "f235bcca-94d4-497e-bafd-991b32654d04",
   "metadata": {},
   "source": [
    "## Congratulations\n",
    "\n",
    "By now you have created 2 sub-agents and a supervisor agent. You have invoked the supervisor agent using prompts requiring multiple sub-agents.\n",
    "\n",
    "For other multi-agent collaboration examples check the [Amazon Bedrock Agent Samples](https://github.com/awslabs/amazon-bedrock-agent-samples) repository\n",
    "\n",
    "Next, let's clean up our resources to avoid unexpected costs\n"
   ]
  }
 ],
 "metadata": {
  "kernelspec": {
   "display_name": "Python 3 (ipykernel)",
   "language": "python",
   "name": "python3"
  },
  "language_info": {
   "codemirror_mode": {
    "name": "ipython",
    "version": 3
   },
   "file_extension": ".py",
   "mimetype": "text/x-python",
   "name": "python",
   "nbconvert_exporter": "python",
   "pygments_lexer": "ipython3",
   "version": "3.11.11"
  }
 },
 "nbformat": 4,
 "nbformat_minor": 5
}
