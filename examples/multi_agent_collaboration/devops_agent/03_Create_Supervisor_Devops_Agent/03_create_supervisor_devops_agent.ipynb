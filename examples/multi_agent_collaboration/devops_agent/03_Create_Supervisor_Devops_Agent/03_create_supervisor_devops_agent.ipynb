{
 "cells": [
  {
   "cell_type": "markdown",
   "id": "820c401d-a820-4ae6-8672-924075b3f998",
   "metadata": {
    "pycharm": {
     "name": "#%% md\n"
    }
   },
   "source": [
    "# Creating multi-agent collaboration: Slack Assistant\n",
    "In this folder we will create the supervisor agent for our slack assistant and attach the grafana assistant and github assistant as sub-agents to it.\n",
    "\n",
    "This agent will make usage of the `SUPERVISOR_ROUTER` collaboration mode in order to get the user's intent classification routed to the correct sub-agent\n",
    "\n",
    "The agent architecture looks as following:\n",
    "![Architecture](images/architecture.png)\n",
    "\n",
    "\n",
    "## Prerequisites\n",
    "Before starting, let's install the required boto3 libraries. Since this is a preview, the required libraries are being installed from the provided `whl` files\n",
    "\n",
    "**Important:** this command will result in some conflict errors. It is ok to ignore those for now! We will check the pip versions in the next step"
   ]
  },
  {
   "cell_type": "code",
   "execution_count": null,
   "id": "a1850481-d41e-4e5a-92e1-f4aa9ffe41bc",
   "metadata": {
    "pycharm": {
     "name": "#%%\n"
    },
    "tags": []
   },
   "outputs": [],
   "source": [
    "!python3 -m pip install --force-reinstall --no-cache -q -r requirements.txt"
   ]
  },
  {
   "cell_type": "markdown",
   "id": "7c0d0057-2292-496b-9f84-98047d493266",
   "metadata": {
    "pycharm": {
     "name": "#%% md\n"
    }
   },
   "source": [
    "## Import required libraries\n",
    "Next we will import the required libraries. We will also import some support functions available in the parent directory. Those functions are:\n",
    "- `create_agent`: helps you to create the necessary IAM permissions and Bedrock agetns based on the agent's name, instructions, foundation models, descriptions and other properties\n",
    "- `associate_sub_agents`: associate existing agents as sub-agents to the created supervisor agent\n",
    "- `list_agent_collaborators`: list the available agents collaborations\n",
    "- `invoke_agent_helper`: helps you to invoke your agent using invoke_agent\n",
    "\n",
    "You can see the implementation of both functions in the parent directory"
   ]
  },
  {
   "cell_type": "code",
   "execution_count": null,
   "id": "9b01e02c-0b59-4de6-8e57-87a13b3efd02",
   "metadata": {
    "pycharm": {
     "name": "#%%\n"
    },
    "tags": []
   },
   "outputs": [],
   "source": [
    "import sys\n",
    "import os\n",
    "import time\n",
    "\n",
    "# Get the current file's directory\n",
    "current_dir = os.path.dirname(os.path.abspath('__file__'))\n",
    "\n",
    "# Get the parent directory\n",
    "parent_dir = os.path.dirname(current_dir)\n",
    "print(parent_dir)\n",
    "\n",
    "# Add the parent directory to sys.path\n",
    "sys.path.append(parent_dir)\n",
    "\n",
    "from agents import create_agent, associate_sub_agents, list_agent_collaborators, invoke_agent_helper"
   ]
  },
  {
   "cell_type": "markdown",
   "id": "b1af602b-66b0-40cd-90c6-6d106560a66d",
   "metadata": {
    "pycharm": {
     "name": "#%% md\n"
    }
   },
   "source": [
    "## Load Data From Stored Variables\n",
    "Let's now load the sub-agents ARN from the stored variables and confirm that we've gotten the right values"
   ]
  },
  {
   "cell_type": "code",
   "execution_count": null,
   "id": "ccfb4e81-cd78-47b1-8a7f-d4ac45f7f368",
   "metadata": {
    "pycharm": {
     "name": "#%%\n"
    },
    "tags": []
   },
   "outputs": [],
   "source": [
    "%store -r"
   ]
  },
  {
   "cell_type": "code",
   "execution_count": null,
   "id": "96a44159-67ea-4134-817b-7c48b165f711",
   "metadata": {
    "pycharm": {
     "name": "#%%\n"
    },
    "tags": []
   },
   "outputs": [],
   "source": [
    "grafana_assistant_agent_alias_arn, github_assistant_agent_alias_arn"
   ]
  },
  {
   "cell_type": "markdown",
   "id": "78792ade-8e26-415b-99c3-a611f6e43ccd",
   "metadata": {
    "pycharm": {
     "name": "#%% md\n"
    }
   },
   "source": [
    "## Defining supervisor agent configuration\n",
    "\n",
    "Let's now define the configuration for our travel assistant supervisor agent. Let's use the follow instructions to create our agent:\n",
    "\n",
    "```\n",
    "You are a supervisor agent responsible for coordinating between a GitHub agent and a Grafana agent. Your role is to:\n",
    "\n",
    "1. Analyze user queries and determine which agent(s) should handle the request\n",
    "2. Route requests to the appropriate agent(s)\n",
    "3. Combine responses when needed\n",
    "4. Ensure smooth interaction between agents when a task requires both GitHub and monitoring data\n",
    "\n",
    "Guidelines for request handling:\n",
    "\n",
    "1. For GitHub-related queries (involving repositories, pull requests, code, or GitHub operations):\n",
    "   - Route to the GitHub agent\n",
    "   - Keywords to watch for: \"PR\", \"pull request\", \"repo\", \"repository\", \"GitHub\", \"commit\"\n",
    "\n",
    "2. For monitoring and alert-related queries:\n",
    "   - Route to the Grafana agent\n",
    "   - Keywords to watch for: \"alert\", \"monitoring\", \"status\", \"metrics\", \"Grafana\", \"memory\", \"CPU\"\n",
    "\n",
    "3. For complex queries requiring both systems:\n",
    "   - Break down the request into sub-tasks\n",
    "   - Route each sub-task to the appropriate agent\n",
    "   - Combine the responses in a meaningful way\n",
    "   - Example: \"Show me all PRs for apps with active alerts\"\n",
    "\n",
    "Response formatting:\n",
    "\n",
    "1. Clearly indicate which agent provided which part of the response\n",
    "2. Maintain context between related pieces of information\n",
    "3. Present combined information in a logical and easy-to-understand format\n",
    "\n",
    "Error handling:\n",
    "\n",
    "1. If an agent cannot process a request, relay the error and suggest alternatives\n",
    "2. If unsure about which agent should handle a request, ask the user for clarification\n",
    "3. Ensure that partial failures don't prevent the delivery of available information\n",
    "\n",
    "When interacting with users:\n",
    "1. Maintain a helpful and professional tone\n",
    "2. Clearly communicate which system is being queried\n",
    "3. Ask for clarification when needed to route requests properly\n",
    "\n",
    "Remember: Your primary role is to coordinate and ensure effective communication between the specialized agents while providing a seamless experience for the user.\n",
    "```\n",
    "\n",
    "For this agent, we will use `Claude 3.5 Sonnet v2` model in order to provide better reasoning capabilities to the supervisor agent.\n",
    "\n",
    "As subagents, we have the following configuration:\n",
    "* **GrafanaAssistant**: Agent that handles Grafana alerts and dimensional state analysis while strictly operating within accessed data and letting other agents handle their specific domains.\n",
    "* **GithunAssistant**: Agent that handles GitHub operations like finding and searching pull requests while letting other agents handle their specific domains."
   ]
  },
  {
   "cell_type": "code",
   "execution_count": null,
   "id": "a2f310d2-94a1-4abf-b28f-d9c4853a2b32",
   "metadata": {
    "pycharm": {
     "name": "#%%\n"
    },
    "tags": []
   },
   "outputs": [],
   "source": [
    "agent_name = 'slack-poc-agent'\n",
    "agent_foundation_model = \"anthropic.claude-3-5-sonnet-20241022-v2:0\"\n",
    "agent_instruction = \"\"\"You are a supervisor agent responsible for coordinating between a GitHub agent and a Grafana agent. Your role is to:\n",
    "\n",
    "1. Analyze user queries and determine which agent(s) should handle the request\n",
    "2. Route requests to the appropriate agent(s)\n",
    "3. Combine responses when needed\n",
    "4. Ensure smooth interaction between agents when a task requires both GitHub and monitoring data\n",
    "\n",
    "Guidelines for request handling:\n",
    "\n",
    "1. For GitHub-related queries (involving repositories, pull requests, code, or GitHub operations):\n",
    "   - Route to the GitHub agent\n",
    "   - Keywords to watch for: \"PR\", \"pull request\", \"repo\", \"repository\", \"GitHub\", \"commit\"\n",
    "\n",
    "2. For monitoring and alert-related queries:\n",
    "   - Route to the Grafana agent\n",
    "   - Keywords to watch for: \"alert\", \"monitoring\", \"status\", \"metrics\", \"Grafana\", \"memory\", \"CPU\"\n",
    "\n",
    "3. For complex queries requiring both systems:\n",
    "   - Break down the request into sub-tasks\n",
    "   - Route each sub-task to the appropriate agent\n",
    "   - Combine the responses in a meaningful way\n",
    "   - Example: \"Show me all PRs for apps with active alerts\"\n",
    "\n",
    "Response formatting:\n",
    "\n",
    "1. Clearly indicate which agent provided which part of the response\n",
    "2. Maintain context between related pieces of information\n",
    "3. Present combined information in a logical and easy-to-understand format\n",
    "\n",
    "Error handling:\n",
    "\n",
    "1. If an agent cannot process a request, relay the error and suggest alternatives\n",
    "2. If unsure about which agent should handle a request, ask the user for clarification\n",
    "3. Ensure that partial failures don't prevent the delivery of available information\n",
    "\n",
    "When interacting with users:\n",
    "1. Maintain a helpful and professional tone\n",
    "2. Clearly communicate which system is being queried\n",
    "3. Ask for clarification when needed to route requests properly\n",
    "\n",
    "Remember: Your primary role is to coordinate and ensure effective communication between the specialized agents while providing a seamless experience for the user.\"\"\"\n",
    "agent_description = \"Multi-agent collaboration for slack\"\n",
    "\n",
    "sub_agents_list = [\n",
    "    {\n",
    "        'sub_agent_alias_arn': grafana_assistant_agent_alias_arn,\n",
    "        'sub_agent_instruction': \"\"\"Use this agent to handle Grafana alerts and dimensional state analysis while strictly operating within accessed data and letting other agents handle their specific domains.\"\"\",\n",
    "        'sub_agent_association_name': 'GrafanaAssistant',\n",
    "        'relay_conversation_history': 'DISABLED'\n",
    "    },\n",
    "    {\n",
    "        'sub_agent_alias_arn': github_assistant_agent_alias_arn,\n",
    "        'sub_agent_instruction': \"\"\"Use this agent to handle GitHub operations like finding and searching pull requests while letting other agents handle their specific domains.\"\"\",\n",
    "        'sub_agent_association_name': 'GithubAssistant',\n",
    "        'relay_conversation_history': 'DISABLED'\n",
    "    }\n",
    "]"
   ]
  },
  {
   "cell_type": "markdown",
   "id": "592fd399-e0b3-4b73-9d85-ec2b04b830f4",
   "metadata": {
    "pycharm": {
     "name": "#%% md\n"
    }
   },
   "source": [
    "## Create agent\n",
    "Next we will create the agent with the provided information"
   ]
  },
  {
   "cell_type": "code",
   "execution_count": null,
   "id": "988a2a0b-4db8-4958-9f7e-bcae374f8fbf",
   "metadata": {
    "pycharm": {
     "name": "#%%\n"
    },
    "tags": []
   },
   "outputs": [],
   "source": [
    "supervisor_agent_id, supervisor_agent_alias_id, supervisor_agent_alias_arn = create_agent(\n",
    "    agent_name,\n",
    "    agent_instruction,\n",
    "    agent_foundation_model=agent_foundation_model,\n",
    "    agent_description=agent_description,\n",
    "    agent_collaboration='SUPERVISOR_ROUTER',\n",
    "    create_alias=False # working with test alias\n",
    ")\n",
    "supervisor_agent_id, supervisor_agent_alias_id, supervisor_agent_alias_arn"
   ]
  },
  {
   "cell_type": "markdown",
   "id": "c8cbeea6-4ebb-4a9f-8e43-9ff6655b5eca",
   "metadata": {
    "pycharm": {
     "name": "#%% md\n"
    }
   },
   "source": [
    "## Create agent associations\n",
    "Next we will associate the required sub-agents to our supervisor agent"
   ]
  },
  {
   "cell_type": "code",
   "execution_count": null,
   "id": "b2c89b03-744b-4dc6-9e38-38a80f7ed600",
   "metadata": {
    "pycharm": {
     "name": "#%%\n"
    },
    "tags": []
   },
   "outputs": [],
   "source": [
    "supervisor_agent_alias_id, supervisor_agent_alias_arn = associate_sub_agents(\n",
    "    supervisor_agent_id, sub_agents_list\n",
    ")\n",
    "supervisor_agent_alias_id, supervisor_agent_alias_arn"
   ]
  },
  {
   "cell_type": "markdown",
   "id": "ef24ab05-05cc-4071-836b-ea27b9323b3d",
   "metadata": {
    "pycharm": {
     "name": "#%% md\n"
    }
   },
   "source": [
    "## List agent associations\n",
    "After that we can list the associations of our agent"
   ]
  },
  {
   "cell_type": "code",
   "execution_count": null,
   "id": "04756661-5a29-41e0-b291-d3c4d910264c",
   "metadata": {
    "pycharm": {
     "name": "#%%\n"
    },
    "tags": []
   },
   "outputs": [],
   "source": [
    "print(list_agent_collaborators(supervisor_agent_id))\n",
    "time.sleep(10)"
   ]
  },
  {
   "cell_type": "markdown",
   "id": "47b4005f-7926-49ad-9215-d6bea741fb34",
   "metadata": {
    "pycharm": {
     "name": "#%% md\n"
    }
   },
   "source": [
    "## Testing Agent\n",
    "Now that we've created the agent, let's test it by using our `invoke_agent_helper` function\n",
    "\n",
    "### Using Grafana Assistant\n",
    "First let's invoke the slack assistant with a query that triggers the grafana assistant"
   ]
  },
  {
   "cell_type": "code",
   "execution_count": null,
   "id": "6a069d62-bf91-43cd-9d5b-ebfd0b0cbc86",
   "metadata": {
    "pycharm": {
     "name": "#%%\n"
    }
   },
   "outputs": [],
   "source": [
    "%%time\n",
    "import uuid\n",
    "session_id:str = str(uuid.uuid1())\n",
    "query = \"can you get me alert history of memory alert for the app app1\"\n",
    "\n",
    "response = invoke(\n",
    "    input_text=query, session_id=session_id, agent_id=supervisor_agent_id, \n",
    "    agent_alias_id=supervisor_agent_alias_id, enable_trace=True\n",
    ")\n",
    "\n",
    "print(response)"
   ]
  },
  {
   "cell_type": "markdown",
   "id": "aad0fa9b-747f-4ed3-af0e-dd43187f78e6",
   "metadata": {
    "pycharm": {
     "name": "#%% md\n"
    }
   },
   "source": [
    "### Using Github Assistant\n",
    "Next let's invoke our slack assistant with a query that triggers the github assistant. Before doing that we will sleep for 60 seconds to avoid throttling. This can be removed for accounts with higher limits"
   ]
  },
  {
   "cell_type": "code",
   "execution_count": null,
   "id": "c82ce15a-7cb3-4495-be5d-029a63db7956",
   "metadata": {
    "pycharm": {
     "name": "#%%\n"
    }
   },
   "outputs": [],
   "source": [
    "time.sleep(60)"
   ]
  },
  {
   "cell_type": "code",
   "execution_count": null,
   "id": "6cbaa892-d079-42f9-9c79-74a66d10a3b2",
   "metadata": {
    "pycharm": {
     "name": "#%%\n"
    },
    "tags": []
   },
   "outputs": [],
   "source": [
    "%%time\n",
    "import uuid\n",
    "session_id:str = str(uuid.uuid1())\n",
    "query = \"get me all github related pull requests for owner mttanke for repo amazon-bedrock-samples\"\n",
    "\n",
    "response = invoke(\n",
    "    input_text=query, session_id=session_id, agent_id=supervisor_agent_id, \n",
    "    agent_alias_id=supervisor_agent_alias_id, enable_trace=True\n",
    ")\n",
    "\n",
    "print(response)"
   ]
  },
  {
   "cell_type": "markdown",
   "id": "4b1da6cf-c01b-4adf-9dda-646606edbb7f",
   "metadata": {
    "pycharm": {
     "name": "#%% md\n"
    }
   },
   "source": [
    "## Saving the information\n",
    "Let's now save some information so that we can use this agent as a sub-agent of our traveler assistant"
   ]
  },
  {
   "cell_type": "code",
   "execution_count": null,
   "id": "04496cab-7722-47a9-a579-c1e0302c4a27",
   "metadata": {
    "pycharm": {
     "name": "#%%\n"
    },
    "tags": []
   },
   "outputs": [],
   "source": [
    "supervisor_agent_id, supervisor_agent_alias_id"
   ]
  },
  {
   "cell_type": "code",
   "execution_count": null,
   "id": "723ac006-d715-4eb3-b85f-d641bf457d5a",
   "metadata": {
    "pycharm": {
     "name": "#%%\n"
    },
    "tags": []
   },
   "outputs": [],
   "source": [
    "%store supervisor_agent_id\n",
    "%store supervisor_agent_alias_id"
   ]
  },
  {
   "cell_type": "code",
   "execution_count": null,
   "id": "5dec46f9-97e7-4a02-a9c3-51a2945de53a",
   "metadata": {
    "pycharm": {
     "name": "#%%\n"
    }
   },
   "outputs": [],
   "source": [
    "supervisor_agent_id"
   ]
  },
  {
   "cell_type": "markdown",
   "id": "5b32259b-c349-4e2e-a0d5-a563c829b15b",
   "metadata": {
    "pycharm": {
     "name": "#%% md\n"
    }
   },
   "source": [
    "## Next steps\n",
    "\n",
    "So far we have created a supervisor agent and invoked it with the buildtime boto3 SDK. This allows us to test the agent behavior but does not provide the latest functionalities for the tracing. Let's now test those functionalities using the runtime boto3 SDK"
   ]
  }
 ],
 "metadata": {
  "availableInstances": [
   {
    "_defaultOrder": 0,
    "_isFastLaunch": true,
    "category": "General purpose",
    "gpuNum": 0,
    "hideHardwareSpecs": false,
    "memoryGiB": 4,
    "name": "ml.t3.medium",
    "vcpuNum": 2
   },
   {
    "_defaultOrder": 1,
    "_isFastLaunch": false,
    "category": "General purpose",
    "gpuNum": 0,
    "hideHardwareSpecs": false,
    "memoryGiB": 8,
    "name": "ml.t3.large",
    "vcpuNum": 2
   },
   {
    "_defaultOrder": 2,
    "_isFastLaunch": false,
    "category": "General purpose",
    "gpuNum": 0,
    "hideHardwareSpecs": false,
    "memoryGiB": 16,
    "name": "ml.t3.xlarge",
    "vcpuNum": 4
   },
   {
    "_defaultOrder": 3,
    "_isFastLaunch": false,
    "category": "General purpose",
    "gpuNum": 0,
    "hideHardwareSpecs": false,
    "memoryGiB": 32,
    "name": "ml.t3.2xlarge",
    "vcpuNum": 8
   },
   {
    "_defaultOrder": 4,
    "_isFastLaunch": true,
    "category": "General purpose",
    "gpuNum": 0,
    "hideHardwareSpecs": false,
    "memoryGiB": 8,
    "name": "ml.m5.large",
    "vcpuNum": 2
   },
   {
    "_defaultOrder": 5,
    "_isFastLaunch": false,
    "category": "General purpose",
    "gpuNum": 0,
    "hideHardwareSpecs": false,
    "memoryGiB": 16,
    "name": "ml.m5.xlarge",
    "vcpuNum": 4
   },
   {
    "_defaultOrder": 6,
    "_isFastLaunch": false,
    "category": "General purpose",
    "gpuNum": 0,
    "hideHardwareSpecs": false,
    "memoryGiB": 32,
    "name": "ml.m5.2xlarge",
    "vcpuNum": 8
   },
   {
    "_defaultOrder": 7,
    "_isFastLaunch": false,
    "category": "General purpose",
    "gpuNum": 0,
    "hideHardwareSpecs": false,
    "memoryGiB": 64,
    "name": "ml.m5.4xlarge",
    "vcpuNum": 16
   },
   {
    "_defaultOrder": 8,
    "_isFastLaunch": false,
    "category": "General purpose",
    "gpuNum": 0,
    "hideHardwareSpecs": false,
    "memoryGiB": 128,
    "name": "ml.m5.8xlarge",
    "vcpuNum": 32
   },
   {
    "_defaultOrder": 9,
    "_isFastLaunch": false,
    "category": "General purpose",
    "gpuNum": 0,
    "hideHardwareSpecs": false,
    "memoryGiB": 192,
    "name": "ml.m5.12xlarge",
    "vcpuNum": 48
   },
   {
    "_defaultOrder": 10,
    "_isFastLaunch": false,
    "category": "General purpose",
    "gpuNum": 0,
    "hideHardwareSpecs": false,
    "memoryGiB": 256,
    "name": "ml.m5.16xlarge",
    "vcpuNum": 64
   },
   {
    "_defaultOrder": 11,
    "_isFastLaunch": false,
    "category": "General purpose",
    "gpuNum": 0,
    "hideHardwareSpecs": false,
    "memoryGiB": 384,
    "name": "ml.m5.24xlarge",
    "vcpuNum": 96
   },
   {
    "_defaultOrder": 12,
    "_isFastLaunch": false,
    "category": "General purpose",
    "gpuNum": 0,
    "hideHardwareSpecs": false,
    "memoryGiB": 8,
    "name": "ml.m5d.large",
    "vcpuNum": 2
   },
   {
    "_defaultOrder": 13,
    "_isFastLaunch": false,
    "category": "General purpose",
    "gpuNum": 0,
    "hideHardwareSpecs": false,
    "memoryGiB": 16,
    "name": "ml.m5d.xlarge",
    "vcpuNum": 4
   },
   {
    "_defaultOrder": 14,
    "_isFastLaunch": false,
    "category": "General purpose",
    "gpuNum": 0,
    "hideHardwareSpecs": false,
    "memoryGiB": 32,
    "name": "ml.m5d.2xlarge",
    "vcpuNum": 8
   },
   {
    "_defaultOrder": 15,
    "_isFastLaunch": false,
    "category": "General purpose",
    "gpuNum": 0,
    "hideHardwareSpecs": false,
    "memoryGiB": 64,
    "name": "ml.m5d.4xlarge",
    "vcpuNum": 16
   },
   {
    "_defaultOrder": 16,
    "_isFastLaunch": false,
    "category": "General purpose",
    "gpuNum": 0,
    "hideHardwareSpecs": false,
    "memoryGiB": 128,
    "name": "ml.m5d.8xlarge",
    "vcpuNum": 32
   },
   {
    "_defaultOrder": 17,
    "_isFastLaunch": false,
    "category": "General purpose",
    "gpuNum": 0,
    "hideHardwareSpecs": false,
    "memoryGiB": 192,
    "name": "ml.m5d.12xlarge",
    "vcpuNum": 48
   },
   {
    "_defaultOrder": 18,
    "_isFastLaunch": false,
    "category": "General purpose",
    "gpuNum": 0,
    "hideHardwareSpecs": false,
    "memoryGiB": 256,
    "name": "ml.m5d.16xlarge",
    "vcpuNum": 64
   },
   {
    "_defaultOrder": 19,
    "_isFastLaunch": false,
    "category": "General purpose",
    "gpuNum": 0,
    "hideHardwareSpecs": false,
    "memoryGiB": 384,
    "name": "ml.m5d.24xlarge",
    "vcpuNum": 96
   },
   {
    "_defaultOrder": 20,
    "_isFastLaunch": false,
    "category": "General purpose",
    "gpuNum": 0,
    "hideHardwareSpecs": true,
    "memoryGiB": 0,
    "name": "ml.geospatial.interactive",
    "supportedImageNames": [
     "sagemaker-geospatial-v1-0"
    ],
    "vcpuNum": 0
   },
   {
    "_defaultOrder": 21,
    "_isFastLaunch": true,
    "category": "Compute optimized",
    "gpuNum": 0,
    "hideHardwareSpecs": false,
    "memoryGiB": 4,
    "name": "ml.c5.large",
    "vcpuNum": 2
   },
   {
    "_defaultOrder": 22,
    "_isFastLaunch": false,
    "category": "Compute optimized",
    "gpuNum": 0,
    "hideHardwareSpecs": false,
    "memoryGiB": 8,
    "name": "ml.c5.xlarge",
    "vcpuNum": 4
   },
   {
    "_defaultOrder": 23,
    "_isFastLaunch": false,
    "category": "Compute optimized",
    "gpuNum": 0,
    "hideHardwareSpecs": false,
    "memoryGiB": 16,
    "name": "ml.c5.2xlarge",
    "vcpuNum": 8
   },
   {
    "_defaultOrder": 24,
    "_isFastLaunch": false,
    "category": "Compute optimized",
    "gpuNum": 0,
    "hideHardwareSpecs": false,
    "memoryGiB": 32,
    "name": "ml.c5.4xlarge",
    "vcpuNum": 16
   },
   {
    "_defaultOrder": 25,
    "_isFastLaunch": false,
    "category": "Compute optimized",
    "gpuNum": 0,
    "hideHardwareSpecs": false,
    "memoryGiB": 72,
    "name": "ml.c5.9xlarge",
    "vcpuNum": 36
   },
   {
    "_defaultOrder": 26,
    "_isFastLaunch": false,
    "category": "Compute optimized",
    "gpuNum": 0,
    "hideHardwareSpecs": false,
    "memoryGiB": 96,
    "name": "ml.c5.12xlarge",
    "vcpuNum": 48
   },
   {
    "_defaultOrder": 27,
    "_isFastLaunch": false,
    "category": "Compute optimized",
    "gpuNum": 0,
    "hideHardwareSpecs": false,
    "memoryGiB": 144,
    "name": "ml.c5.18xlarge",
    "vcpuNum": 72
   },
   {
    "_defaultOrder": 28,
    "_isFastLaunch": false,
    "category": "Compute optimized",
    "gpuNum": 0,
    "hideHardwareSpecs": false,
    "memoryGiB": 192,
    "name": "ml.c5.24xlarge",
    "vcpuNum": 96
   },
   {
    "_defaultOrder": 29,
    "_isFastLaunch": true,
    "category": "Accelerated computing",
    "gpuNum": 1,
    "hideHardwareSpecs": false,
    "memoryGiB": 16,
    "name": "ml.g4dn.xlarge",
    "vcpuNum": 4
   },
   {
    "_defaultOrder": 30,
    "_isFastLaunch": false,
    "category": "Accelerated computing",
    "gpuNum": 1,
    "hideHardwareSpecs": false,
    "memoryGiB": 32,
    "name": "ml.g4dn.2xlarge",
    "vcpuNum": 8
   },
   {
    "_defaultOrder": 31,
    "_isFastLaunch": false,
    "category": "Accelerated computing",
    "gpuNum": 1,
    "hideHardwareSpecs": false,
    "memoryGiB": 64,
    "name": "ml.g4dn.4xlarge",
    "vcpuNum": 16
   },
   {
    "_defaultOrder": 32,
    "_isFastLaunch": false,
    "category": "Accelerated computing",
    "gpuNum": 1,
    "hideHardwareSpecs": false,
    "memoryGiB": 128,
    "name": "ml.g4dn.8xlarge",
    "vcpuNum": 32
   },
   {
    "_defaultOrder": 33,
    "_isFastLaunch": false,
    "category": "Accelerated computing",
    "gpuNum": 4,
    "hideHardwareSpecs": false,
    "memoryGiB": 192,
    "name": "ml.g4dn.12xlarge",
    "vcpuNum": 48
   },
   {
    "_defaultOrder": 34,
    "_isFastLaunch": false,
    "category": "Accelerated computing",
    "gpuNum": 1,
    "hideHardwareSpecs": false,
    "memoryGiB": 256,
    "name": "ml.g4dn.16xlarge",
    "vcpuNum": 64
   },
   {
    "_defaultOrder": 35,
    "_isFastLaunch": false,
    "category": "Accelerated computing",
    "gpuNum": 1,
    "hideHardwareSpecs": false,
    "memoryGiB": 61,
    "name": "ml.p3.2xlarge",
    "vcpuNum": 8
   },
   {
    "_defaultOrder": 36,
    "_isFastLaunch": false,
    "category": "Accelerated computing",
    "gpuNum": 4,
    "hideHardwareSpecs": false,
    "memoryGiB": 244,
    "name": "ml.p3.8xlarge",
    "vcpuNum": 32
   },
   {
    "_defaultOrder": 37,
    "_isFastLaunch": false,
    "category": "Accelerated computing",
    "gpuNum": 8,
    "hideHardwareSpecs": false,
    "memoryGiB": 488,
    "name": "ml.p3.16xlarge",
    "vcpuNum": 64
   },
   {
    "_defaultOrder": 38,
    "_isFastLaunch": false,
    "category": "Accelerated computing",
    "gpuNum": 8,
    "hideHardwareSpecs": false,
    "memoryGiB": 768,
    "name": "ml.p3dn.24xlarge",
    "vcpuNum": 96
   },
   {
    "_defaultOrder": 39,
    "_isFastLaunch": false,
    "category": "Memory Optimized",
    "gpuNum": 0,
    "hideHardwareSpecs": false,
    "memoryGiB": 16,
    "name": "ml.r5.large",
    "vcpuNum": 2
   },
   {
    "_defaultOrder": 40,
    "_isFastLaunch": false,
    "category": "Memory Optimized",
    "gpuNum": 0,
    "hideHardwareSpecs": false,
    "memoryGiB": 32,
    "name": "ml.r5.xlarge",
    "vcpuNum": 4
   },
   {
    "_defaultOrder": 41,
    "_isFastLaunch": false,
    "category": "Memory Optimized",
    "gpuNum": 0,
    "hideHardwareSpecs": false,
    "memoryGiB": 64,
    "name": "ml.r5.2xlarge",
    "vcpuNum": 8
   },
   {
    "_defaultOrder": 42,
    "_isFastLaunch": false,
    "category": "Memory Optimized",
    "gpuNum": 0,
    "hideHardwareSpecs": false,
    "memoryGiB": 128,
    "name": "ml.r5.4xlarge",
    "vcpuNum": 16
   },
   {
    "_defaultOrder": 43,
    "_isFastLaunch": false,
    "category": "Memory Optimized",
    "gpuNum": 0,
    "hideHardwareSpecs": false,
    "memoryGiB": 256,
    "name": "ml.r5.8xlarge",
    "vcpuNum": 32
   },
   {
    "_defaultOrder": 44,
    "_isFastLaunch": false,
    "category": "Memory Optimized",
    "gpuNum": 0,
    "hideHardwareSpecs": false,
    "memoryGiB": 384,
    "name": "ml.r5.12xlarge",
    "vcpuNum": 48
   },
   {
    "_defaultOrder": 45,
    "_isFastLaunch": false,
    "category": "Memory Optimized",
    "gpuNum": 0,
    "hideHardwareSpecs": false,
    "memoryGiB": 512,
    "name": "ml.r5.16xlarge",
    "vcpuNum": 64
   },
   {
    "_defaultOrder": 46,
    "_isFastLaunch": false,
    "category": "Memory Optimized",
    "gpuNum": 0,
    "hideHardwareSpecs": false,
    "memoryGiB": 768,
    "name": "ml.r5.24xlarge",
    "vcpuNum": 96
   },
   {
    "_defaultOrder": 47,
    "_isFastLaunch": false,
    "category": "Accelerated computing",
    "gpuNum": 1,
    "hideHardwareSpecs": false,
    "memoryGiB": 16,
    "name": "ml.g5.xlarge",
    "vcpuNum": 4
   },
   {
    "_defaultOrder": 48,
    "_isFastLaunch": false,
    "category": "Accelerated computing",
    "gpuNum": 1,
    "hideHardwareSpecs": false,
    "memoryGiB": 32,
    "name": "ml.g5.2xlarge",
    "vcpuNum": 8
   },
   {
    "_defaultOrder": 49,
    "_isFastLaunch": false,
    "category": "Accelerated computing",
    "gpuNum": 1,
    "hideHardwareSpecs": false,
    "memoryGiB": 64,
    "name": "ml.g5.4xlarge",
    "vcpuNum": 16
   },
   {
    "_defaultOrder": 50,
    "_isFastLaunch": false,
    "category": "Accelerated computing",
    "gpuNum": 1,
    "hideHardwareSpecs": false,
    "memoryGiB": 128,
    "name": "ml.g5.8xlarge",
    "vcpuNum": 32
   },
   {
    "_defaultOrder": 51,
    "_isFastLaunch": false,
    "category": "Accelerated computing",
    "gpuNum": 1,
    "hideHardwareSpecs": false,
    "memoryGiB": 256,
    "name": "ml.g5.16xlarge",
    "vcpuNum": 64
   },
   {
    "_defaultOrder": 52,
    "_isFastLaunch": false,
    "category": "Accelerated computing",
    "gpuNum": 4,
    "hideHardwareSpecs": false,
    "memoryGiB": 192,
    "name": "ml.g5.12xlarge",
    "vcpuNum": 48
   },
   {
    "_defaultOrder": 53,
    "_isFastLaunch": false,
    "category": "Accelerated computing",
    "gpuNum": 4,
    "hideHardwareSpecs": false,
    "memoryGiB": 384,
    "name": "ml.g5.24xlarge",
    "vcpuNum": 96
   },
   {
    "_defaultOrder": 54,
    "_isFastLaunch": false,
    "category": "Accelerated computing",
    "gpuNum": 8,
    "hideHardwareSpecs": false,
    "memoryGiB": 768,
    "name": "ml.g5.48xlarge",
    "vcpuNum": 192
   },
   {
    "_defaultOrder": 55,
    "_isFastLaunch": false,
    "category": "Accelerated computing",
    "gpuNum": 8,
    "hideHardwareSpecs": false,
    "memoryGiB": 1152,
    "name": "ml.p4d.24xlarge",
    "vcpuNum": 96
   },
   {
    "_defaultOrder": 56,
    "_isFastLaunch": false,
    "category": "Accelerated computing",
    "gpuNum": 8,
    "hideHardwareSpecs": false,
    "memoryGiB": 1152,
    "name": "ml.p4de.24xlarge",
    "vcpuNum": 96
   },
   {
    "_defaultOrder": 57,
    "_isFastLaunch": false,
    "category": "Accelerated computing",
    "gpuNum": 0,
    "hideHardwareSpecs": false,
    "memoryGiB": 32,
    "name": "ml.trn1.2xlarge",
    "vcpuNum": 8
   },
   {
    "_defaultOrder": 58,
    "_isFastLaunch": false,
    "category": "Accelerated computing",
    "gpuNum": 0,
    "hideHardwareSpecs": false,
    "memoryGiB": 512,
    "name": "ml.trn1.32xlarge",
    "vcpuNum": 128
   },
   {
    "_defaultOrder": 59,
    "_isFastLaunch": false,
    "category": "Accelerated computing",
    "gpuNum": 0,
    "hideHardwareSpecs": false,
    "memoryGiB": 512,
    "name": "ml.trn1n.32xlarge",
    "vcpuNum": 128
   }
  ],
  "instance_type": "ml.t3.medium",
  "kernelspec": {
   "display_name": "Python 3 (ipykernel)",
   "language": "python",
   "name": "python3"
  },
  "language_info": {
   "codemirror_mode": {
    "name": "ipython",
    "version": 3
   },
   "file_extension": ".py",
   "mimetype": "text/x-python",
   "name": "python",
   "nbconvert_exporter": "python",
   "pygments_lexer": "ipython3",
   "version": "3.11.10"
  }
 },
 "nbformat": 4,
 "nbformat_minor": 5
}
