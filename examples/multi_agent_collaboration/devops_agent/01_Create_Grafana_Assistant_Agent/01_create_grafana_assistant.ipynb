{
 "cells": [
  {
   "cell_type": "markdown",
   "id": "1304c1c2-d454-4677-85a4-fff490452e0c",
   "metadata": {
    "pycharm": {
     "name": "#%% md\n"
    }
   },
   "source": [
    "# Creating sub-agent 1: Grafana Assistant\n",
    "In this folder we will create the first sub-agent the grafana assistant\n",
    "\n",
    "The grafana assistant gets the alerts at a grafana dashboard as well as the history of alerts.\n",
    "\n",
    "The agent architecture looks as following:\n",
    "![Architecture](images/architecture.png)\n",
    "\n",
    "The agent has an action group\n",
    "## Prerequisites\n",
    "Before starting, let's install the required boto3 libraries. Since this is a preview, the required libraries are being installed from the provided `whl` files\n",
    "\n",
    "**Important:** this command will result in some conflict errors. It is ok to ignore those for now! We will check the pip versions in the next step"
   ]
  },
  {
   "cell_type": "code",
   "execution_count": null,
   "id": "7b1d7168-a811-4fcb-8fc0-4c4154e7120e",
   "metadata": {
    "pycharm": {
     "name": "#%%\n"
    }
   },
   "outputs": [],
   "source": [
    "!python3 -m pip install --force-reinstall --no-cache -q -r requirements.txt"
   ]
  },
  {
   "cell_type": "markdown",
   "id": "cffa0a4c-6e22-498b-9983-d4b433358437",
   "metadata": {
    "pycharm": {
     "name": "#%% md\n"
    }
   },
   "source": [
    "## Import required libraries\n",
    "Next we will import the required libraries. We will also import some support functions available in the parent directory. Those functions are:\n",
    "- `create_lambda_layer`: to create a lambda layer with the requirements for the agent\n",
    "- `upload_api_schema`: to upload the API schema file to an s3 bucket\n",
    "- `create_agent`: helps you to create the necessary IAM permissions and Bedrock agetns based on the agent's name, instructions, foundation models, descriptions and other properties\n",
    "- `invoke_agent_helper`: helps you to invoke your agent using invoke_agent\n",
    "\n",
    "You can see the implementation of both functions in the parent directory"
   ]
  },
  {
   "cell_type": "code",
   "execution_count": null,
   "id": "b9b8a9ac-306d-4100-96cc-149e5f962f76",
   "metadata": {
    "pycharm": {
     "name": "#%%\n"
    },
    "scrolled": true
   },
   "outputs": [],
   "source": [
    "import time\n",
    "import sys\n",
    "import os\n",
    "import configparser\n",
    "\n",
    "# Get the current file's directory\n",
    "current_dir = os.path.dirname(os.path.abspath('__file__'))\n",
    "\n",
    "# Get the parent directory\n",
    "parent_dir = os.path.dirname(current_dir)\n",
    "print(parent_dir)\n",
    "\n",
    "# Add the parent directory to sys.path\n",
    "sys.path.append(parent_dir)\n",
    "\n",
    "from agents import create_lambda_layer, upload_api_schema, create_agent, invoke_agent_helper\n",
    "\n",
    "\n",
    "#load config\n",
    "config = configparser.RawConfigParser()\n",
    "config.read('../devops.properties')"
   ]
  },
  {
   "cell_type": "markdown",
   "id": "9c5416d1-3ec0-4adf-8f9f-c616fdf87f3b",
   "metadata": {
    "pycharm": {
     "name": "#%% md\n"
    }
   },
   "source": [
    "## Create a Lambda layer\n",
    "Create a lambda layer with the following packages\n",
    "```\n",
    "requests\n",
    "pandas\n",
    "numpy\n",
    "```"
   ]
  },
  {
   "cell_type": "code",
   "execution_count": null,
   "id": "897a353f-1113-4929-ac9c-02c6c44def32",
   "metadata": {
    "pycharm": {
     "name": "#%%\n"
    },
    "scrolled": true
   },
   "outputs": [],
   "source": [
    "agent_name = 'grafana-assistant'\n",
    "requiments = 'lambda_requirements.txt'\n",
    "lambda_layer_arn = create_lambda_layer(agent_name, requiments)\n",
    "lambda_layer_arn"
   ]
  },
  {
   "cell_type": "code",
   "execution_count": null,
   "id": "b326db78-ec1e-49ec-918c-95ad0ed463da",
   "metadata": {
    "pycharm": {
     "name": "#%%\n"
    }
   },
   "outputs": [],
   "source": [
    "api_schema_path = 'grafana-agent-open-api.json'\n",
    "bucket_name, bucket_key = upload_api_schema(agent_name, api_schema_path)\n",
    "bucket_name, bucket_key"
   ]
  },
  {
   "cell_type": "markdown",
   "id": "e9e264b4-69dd-4037-a1c9-fdf8a0f1012b",
   "metadata": {
    "pycharm": {
     "name": "#%% md\n"
    }
   },
   "source": [
    "## Defining agent configuration\n",
    "\n",
    "Let's now define the configuration for our grafana assistant. Let's use the follow instructions to create our agent:\n",
    "\n",
    "```\n",
    "You are a cautious and diligent agent. you only with the data that you have accessed from your tools.\n",
    "You also are able to further filter and select only the data you have got from the api to respond to user requests.\n",
    "You are a grafana expert and can understand differences between alert, dimension etc.\n",
    "When a user asks about a particular app's alert status use the dimensionState.\n",
    "\n",
    "In grafana the name and id correspond to a single alert.\n",
    "Each alert will have details for individual ap based on different dimensions.\n",
    "For example MEM alert has alert id 20, but with it , it can track memory for different applications like app1, app2.\n",
    "You are allowed to use your judgement in mapping the user request to the actual alert name in grafana.\n",
    "\n",
    "you have access to the following tools or operations\n",
    "1/ getAlerts : call grafana to get only the latest alert details including the app of the alert, state, alert id and \n",
    "last active timestamp. You could optionally pass an App name. When in doubt or when given alert name,\n",
    "call the api without any additional parameter and use the data subsequently as needed.\n",
    "2/ getAlertsHistory : Get detailed history of an alert based on the alert id either provided by user or \n",
    "fetched using the first tool. you can optionally pass a parameter to get alerts only in the last n relative minutes.\n",
    "For history of an alert get the alert id from the first tool and call this tool. After getting the data you can filter\n",
    "it based on request before responding\n",
    "```\n",
    "\n",
    "For this agent, we will use `Claude 3 Haiku` model in order to provide faster answers to the user."
   ]
  },
  {
   "cell_type": "code",
   "execution_count": null,
   "id": "ec92a668-db4d-4e87-9eb2-25fe216b6706",
   "metadata": {
    "pycharm": {
     "name": "#%%\n"
    }
   },
   "outputs": [],
   "source": [
    "agent_foundation_model = \"anthropic.claude-3-haiku-20240307-v1:0\"\n",
    "agent_instruction = \"\"\"You are a cautious and diligent agent. you only with the data that you have accessed from your tools.\n",
    "You also are able to further filter and select only the data you have got from the api to respond to user requests.\n",
    "You are a grafana expert and can understand differences between alert, dimension etc.\n",
    "When a user asks about a particular app's alert status use the dimensionState.\n",
    "\n",
    "In grafana the name and id correspond to a single alert.\n",
    "Each alert will have details for individual ap based on different dimensions.\n",
    "For example MEM alert has alert id 20, but with it , it can track memory for different applications like app1, app2.\n",
    "You are allowed to use your judgement in mapping the user request to the actual alert name in grafana.\n",
    "\n",
    "you have access to the following tools or operations\n",
    "1/ getAlerts : call grafana to get only the latest alert details including the app of the alert, state, alert id and \n",
    "last active timestamp. You could optionally pass an App name. When in doubt or when given alert name,\n",
    "call the api without any additional parameter and use the data subsequently as needed.\n",
    "2/ getAlertsHistory : Get detailed history of an alert based on the alert id either provided by user or \n",
    "fetched using the first tool. you can optionally pass a parameter to get alerts only in the last n relative minutes.\n",
    "For history of an alert get the alert id from the first tool and call this tool. After getting the data you can filter\n",
    "it based on request before responding\"\"\"\n",
    "agent_description = \"Agent to manage grafana actions\"\n",
    "\n",
    "\n",
    "action_group_config = {\n",
    "    'name': 'GrafanaActionGroup',\n",
    "    'description': 'Action group to manage grafana dashboard actions for getting alerts and alerts history',\n",
    "    'lambda_function_name': f'{agent_name}-lambda',\n",
    "    'lambda_file_path': 'lambda_function.py',\n",
    "    'api_schema': {\n",
    "        'bucket_name': bucket_name,\n",
    "        'bucket_key': bucket_key\n",
    "    },\n",
    "    'lambda_layers': [lambda_layer_arn],\n",
    "    'environment': {\n",
    "        'Variables': {\n",
    "            'grafana_url': config.get('grafana', 'grafana.url'), # grafana url including the https e.g. https://g-bb69dfe7ae.grafana-workspace.us-east-1.amazonaws.com\n",
    "            'grafana_token': config.get('grafana', 'grafana.token')\n",
    "        }\n",
    "    }\n",
    "}"
   ]
  },
  {
   "cell_type": "markdown",
   "id": "67fcd6a8-5343-41b6-881e-0dda3e010c56",
   "metadata": {
    "pycharm": {
     "name": "#%% md\n"
    }
   },
   "source": [
    "## Create agent\n",
    "Next we will create the agent with the provided information"
   ]
  },
  {
   "cell_type": "code",
   "execution_count": null,
   "id": "e441fcf2-027b-4ef7-a5f1-a41d63b40b43",
   "metadata": {
    "pycharm": {
     "name": "#%%\n"
    }
   },
   "outputs": [],
   "source": [
    "grafana_agent_id, grafana_assistant_agent_alias_id, grafana_assistant_agent_alias_arn = create_agent(\n",
    "    agent_name,\n",
    "    agent_instruction,\n",
    "    agent_foundation_model=agent_foundation_model,\n",
    "    agent_description=agent_description,\n",
    "    action_group_config=action_group_config\n",
    ")\n",
    "time.sleep(20)"
   ]
  },
  {
   "cell_type": "markdown",
   "id": "67c3bc6d-4c78-49a9-99d7-dbee2de4ec56",
   "metadata": {
    "pycharm": {
     "name": "#%% md\n"
    }
   },
   "source": [
    "## Getting details from the agent\n",
    "\n",
    "Let's take a look at the details from the created agent. We will need its `grafana_assistant_agent_alias_arn` to associate the agent with its supervisor agent"
   ]
  },
  {
   "cell_type": "code",
   "execution_count": null,
   "id": "064ae08e-2420-4edd-a346-12de37320f22",
   "metadata": {
    "pycharm": {
     "name": "#%%\n"
    }
   },
   "outputs": [],
   "source": [
    "grafana_agent_id, grafana_assistant_agent_alias_id, grafana_assistant_agent_alias_arn"
   ]
  },
  {
   "cell_type": "markdown",
   "id": "696b7dce-fe07-4a3c-ac8d-914e947386ae",
   "metadata": {
    "pycharm": {
     "name": "#%% md\n"
    }
   },
   "source": [
    "## Testing Agent\n",
    "Now that we've created the agent, let's test it by using our `invoke_agent_helper` function\n",
    "\n",
    "### Getting started\n",
    "First let's get the history of alerts for app1"
   ]
  },
  {
   "cell_type": "code",
   "execution_count": null,
   "id": "ca68623d-467b-4234-9b50-69f45b12ed88",
   "metadata": {
    "pycharm": {
     "name": "#%%\n"
    }
   },
   "outputs": [],
   "source": [
    "%%time\n",
    "import uuid\n",
    "session_id:str = str(uuid.uuid1())\n",
    "query = \"\"\"can you get me alert history of memory alert for the app app1\"\"\"\n",
    "response = invoke_agent_helper(\n",
    "    query, session_id, grafana_agent_id, grafana_assistant_agent_alias_id, enable_trace=True\n",
    ")\n",
    "print(response)"
   ]
  },
  {
   "cell_type": "code",
   "execution_count": null,
   "id": "1216ea74-be4f-4fd4-90ea-b91b39e7f58b",
   "metadata": {
    "pycharm": {
     "name": "#%%\n"
    }
   },
   "outputs": [],
   "source": [
    "%%time\n",
    "import uuid\n",
    "session_id:str = str(uuid.uuid1())\n",
    "query = \"\"\"when was the last Normal state for the response time for app4\"\"\"\n",
    "response = invoke_agent_helper(\n",
    "    query, session_id, grafana_agent_id, grafana_assistant_agent_alias_id, enable_trace=True\n",
    ")\n",
    "print(response)"
   ]
  },
  {
   "cell_type": "code",
   "execution_count": null,
   "id": "f498ceb2-0c3a-48fb-81a7-319f399e2a27",
   "metadata": {
    "pycharm": {
     "name": "#%%\n"
    }
   },
   "outputs": [],
   "source": [
    "%%time\n",
    "import uuid\n",
    "session_id:str = str(uuid.uuid1())\n",
    "query = \"\"\"what all alerts are currently firing\"\"\"\n",
    "response = invoke_agent_helper(\n",
    "    query, session_id, grafana_agent_id, grafana_assistant_agent_alias_id, enable_trace=True\n",
    ")\n",
    "print(response)"
   ]
  },
  {
   "cell_type": "markdown",
   "id": "803b623d-d63b-41c7-b154-71db720c4076",
   "metadata": {
    "pycharm": {
     "name": "#%% md\n"
    }
   },
   "source": [
    "## Saving the information\n",
    "Let's now save some information so that we can use this agent as a sub-agent of our traveler assistant"
   ]
  },
  {
   "cell_type": "code",
   "execution_count": null,
   "id": "c81ef41d-e638-4b47-8115-20b410597368",
   "metadata": {
    "pycharm": {
     "name": "#%%\n"
    }
   },
   "outputs": [],
   "source": [
    "%store grafana_agent_id\n",
    "%store grafana_assistant_agent_alias_id\n",
    "%store grafana_assistant_agent_alias_arn"
   ]
  },
  {
   "cell_type": "markdown",
   "id": "443e8e49-2fe9-43d7-93b4-6e8a97934088",
   "metadata": {
    "pycharm": {
     "name": "#%% md\n"
    }
   },
   "source": [
    "## Next steps\n",
    "Next let's create our other sub-agents for github"
   ]
  }
 ],
 "metadata": {
  "kernelspec": {
   "display_name": "Python 3",
   "language": "python",
   "name": "python3"
  },
  "language_info": {
   "codemirror_mode": {
    "name": "ipython",
    "version": 3
   },
   "file_extension": ".py",
   "mimetype": "text/x-python",
   "name": "python",
   "nbconvert_exporter": "python",
   "pygments_lexer": "ipython3",
   "version": "3.11.10"
  }
 },
 "nbformat": 4,
 "nbformat_minor": 5
}
