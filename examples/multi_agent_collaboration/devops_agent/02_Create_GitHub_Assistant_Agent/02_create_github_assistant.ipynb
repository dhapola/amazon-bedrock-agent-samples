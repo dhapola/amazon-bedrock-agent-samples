{
 "cells": [
  {
   "cell_type": "markdown",
   "id": "1304c1c2-d454-4677-85a4-fff490452e0c",
   "metadata": {
    "pycharm": {
     "name": "#%% md\n"
    }
   },
   "source": [
    "# Creating sub-agent 1: Github Assistant\n",
    "In this folder we will create the second sub-agent the github assistant\n",
    "\n",
    "The github assistant handles GitHub operations like finding and searching pull requests while letting other agents handle their specific domains.\n",
    "\n",
    "The agent architecture looks as following:\n",
    "![Architecture](images/architecture.png)\n",
    "\n",
    "The agent has an action group\n",
    "## Prerequisites\n",
    "Before starting, let's install the required boto3 libraries. Since this is a preview, the required libraries are being installed from the provided `whl` files\n",
    "\n",
    "**Important:** this command will result in some conflict errors. It is ok to ignore those for now! We will check the pip versions in the next step"
   ]
  },
  {
   "cell_type": "code",
   "execution_count": null,
   "id": "7b1d7168-a811-4fcb-8fc0-4c4154e7120e",
   "metadata": {
    "pycharm": {
     "name": "#%%\n"
    }
   },
   "outputs": [],
   "source": [
    "!python3 -m pip install --force-reinstall --no-cache -q -r requirements.txt"
   ]
  },
  {
   "cell_type": "markdown",
   "id": "cffa0a4c-6e22-498b-9983-d4b433358437",
   "metadata": {
    "pycharm": {
     "name": "#%% md\n"
    }
   },
   "source": [
    "## Import required libraries\n",
    "Next we will import the required libraries. We will also import some support functions available in the parent directory. Those functions are:\n",
    "- `create_lambda_layer`: to create a lambda layer with the requirements for the agent\n",
    "- `create_agent`: helps you to create the necessary IAM permissions and Bedrock agetns based on the agent's name, instructions, foundation models, descriptions and other properties\n",
    "- `invoke_agent_helper`: helps you to invoke your agent using invoke_agent\n",
    "\n",
    "You can see the implementation of both functions in the parent directory"
   ]
  },
  {
   "cell_type": "code",
   "execution_count": null,
   "id": "b9b8a9ac-306d-4100-96cc-149e5f962f76",
   "metadata": {
    "pycharm": {
     "name": "#%%\n"
    },
    "scrolled": true
   },
   "outputs": [],
   "source": [
    "import time\n",
    "import sys\n",
    "import os\n",
    "import configparser\n",
    "\n",
    "# Get the current file's directory\n",
    "current_dir = os.path.dirname(os.path.abspath('__file__'))\n",
    "\n",
    "# Get the parent directory\n",
    "parent_dir = os.path.dirname(current_dir)\n",
    "print(parent_dir)\n",
    "\n",
    "# Add the parent directory to sys.path\n",
    "sys.path.append(parent_dir)\n",
    "\n",
    "from agents import create_lambda_layer, create_agent, invoke_agent_helper\n",
    "\n",
    "#load config\n",
    "config = configparser.RawConfigParser()\n",
    "config.read('../devops.properties')\n"
   ]
  },
  {
   "cell_type": "markdown",
   "id": "9c5416d1-3ec0-4adf-8f9f-c616fdf87f3b",
   "metadata": {
    "pycharm": {
     "name": "#%% md\n"
    }
   },
   "source": [
    "## Create a Lambda layer\n",
    "Create a lambda layer with the following packages\n",
    "```\n",
    "requests\n",
    "pandas\n",
    "numpy\n",
    "```"
   ]
  },
  {
   "cell_type": "code",
   "execution_count": null,
   "id": "897a353f-1113-4929-ac9c-02c6c44def32",
   "metadata": {
    "pycharm": {
     "name": "#%%\n"
    },
    "scrolled": true
   },
   "outputs": [],
   "source": [
    "agent_name = 'github-assistant'\n",
    "requiments = 'lambda_requirements.txt'\n",
    "lambda_layer_arn = create_lambda_layer(agent_name, requiments)\n",
    "lambda_layer_arn"
   ]
  },
  {
   "cell_type": "markdown",
   "id": "e9e264b4-69dd-4037-a1c9-fdf8a0f1012b",
   "metadata": {
    "pycharm": {
     "name": "#%% md\n"
    }
   },
   "source": [
    "## Defining agent configuration\n",
    "\n",
    "Let's now define the configuration for our grafana assistant. Let's use the follow instructions to create our agent:\n",
    "\n",
    "```\n",
    "You are an agent specialized in GitHub operations, focusing on finding and analyzing pull requests and related repository information. \n",
    "\n",
    "Primary Tasks: Search and find pull requests based on various criteria\n",
    "\n",
    "When to Use Me:\n",
    "- When you need to find specific pull requests\n",
    "\n",
    "What I Don't Do:\n",
    "- Code analysis \n",
    "- Security assessments \n",
    "- Documentation tasks \n",
    "- Deployment operations\n",
    "- Anything else\n",
    "\n",
    "Remember: I focus solely on GitHub operations\n",
    "```\n",
    "\n",
    "For this agent, we will use `Claude 3 Haiku` model in order to provide faster answers to the user."
   ]
  },
  {
   "cell_type": "code",
   "execution_count": null,
   "id": "ec92a668-db4d-4e87-9eb2-25fe216b6706",
   "metadata": {
    "pycharm": {
     "name": "#%%\n"
    }
   },
   "outputs": [],
   "source": [
    "agent_foundation_model = \"anthropic.claude-3-haiku-20240307-v1:0\"\n",
    "agent_instruction = \"\"\"You are an agent specialized in GitHub operations, focusing on finding and analyzing pull requests and related repository information. \n",
    "\n",
    "Primary Tasks: Search and find pull requests based on various criteria\n",
    "\n",
    "When to Use Me:\n",
    "- When you need to find specific pull requests\n",
    "\n",
    "What I Don't Do:\n",
    "- Code analysis \n",
    "- Security assessments \n",
    "- Documentation tasks \n",
    "- Deployment operations\n",
    "- Anything else\n",
    "\n",
    "Remember: I focus solely on GitHub operations\"\"\"\n",
    "agent_description = \"Agent to manage github actions\"\n",
    "\n",
    "agent_functions = [\n",
    "    {\n",
    "        'name': 'get_git_hub_pull_requests',\n",
    "        'description': 'Gets number of pull requests done in a repo owner by a particular owner',\n",
    "        'parameters': {\n",
    "            \"owner\": {\n",
    "                \"description\": \"owner of the github repo\",\n",
    "                \"required\": True,\n",
    "                \"type\": \"string\"\n",
    "            },\n",
    "            \"repo\": {\n",
    "                \"description\":\"repo name in github you want to find pull requests for\",\n",
    "                \"required\": True,\n",
    "                \"type\": \"string\"\n",
    "            }\n",
    "        }\n",
    "    }\n",
    "]\n",
    "\n",
    "action_group_config = {\n",
    "    'name': 'GithubActionGroup',\n",
    "    'description': 'Action group to manage github actions',\n",
    "    'lambda_function_name': f'{agent_name}-lambda',\n",
    "    'lambda_file_path': 'lambda_function.py',\n",
    "    'lambda_layers': [lambda_layer_arn],\n",
    "    'functions': agent_functions,\n",
    "    'environment': {\n",
    "        'Variables': {\n",
    "            'github_token': config.get('github', 'github.token')\n",
    "        }\n",
    "    }\n",
    "}"
   ]
  },
  {
   "cell_type": "markdown",
   "id": "67fcd6a8-5343-41b6-881e-0dda3e010c56",
   "metadata": {
    "pycharm": {
     "name": "#%% md\n"
    }
   },
   "source": [
    "## Create agent\n",
    "Next we will create the agent with the provided information"
   ]
  },
  {
   "cell_type": "code",
   "execution_count": null,
   "id": "e441fcf2-027b-4ef7-a5f1-a41d63b40b43",
   "metadata": {
    "pycharm": {
     "name": "#%%\n"
    }
   },
   "outputs": [],
   "source": [
    "github_agent_id, github_assistant_agent_alias_id, github_assistant_agent_alias_arn = create_agent(\n",
    "    agent_name,\n",
    "    agent_instruction,\n",
    "    agent_foundation_model=agent_foundation_model,\n",
    "    agent_description=agent_description,\n",
    "    action_group_config=action_group_config\n",
    ")\n",
    "time.sleep(20)"
   ]
  },
  {
   "cell_type": "markdown",
   "id": "67c3bc6d-4c78-49a9-99d7-dbee2de4ec56",
   "metadata": {
    "pycharm": {
     "name": "#%% md\n"
    }
   },
   "source": [
    "## Getting details from the agent\n",
    "\n",
    "Let's take a look at the details from the created agent. We will need its `github_assistant_agent_alias_arn` to associate the agent with its supervisor agent"
   ]
  },
  {
   "cell_type": "code",
   "execution_count": null,
   "id": "064ae08e-2420-4edd-a346-12de37320f22",
   "metadata": {
    "pycharm": {
     "name": "#%%\n"
    }
   },
   "outputs": [],
   "source": [
    "github_agent_id, github_assistant_agent_alias_id, github_assistant_agent_alias_arn"
   ]
  },
  {
   "cell_type": "markdown",
   "id": "696b7dce-fe07-4a3c-ac8d-914e947386ae",
   "metadata": {
    "pycharm": {
     "name": "#%% md\n"
    }
   },
   "source": [
    "## Testing Agent\n",
    "Now that we've created the agent, let's test it by using our `invoke_agent_helper` function\n",
    "\n",
    "### Getting started\n",
    "First let's get the history of alerts for app1"
   ]
  },
  {
   "cell_type": "code",
   "execution_count": null,
   "id": "ca68623d-467b-4234-9b50-69f45b12ed88",
   "metadata": {
    "pycharm": {
     "name": "#%%\n"
    }
   },
   "outputs": [],
   "source": [
    "%%time\n",
    "import uuid\n",
    "session_id:str = str(uuid.uuid1())\n",
    "query = \"\"\"get me all github related pull requests for owner mttanke for repo amazon-bedrock-samples\"\"\"\n",
    "response = invoke_agent_helper(\n",
    "    query, session_id, github_agent_id, github_assistant_agent_alias_id, enable_trace=True\n",
    ")\n",
    "print(response)"
   ]
  },
  {
   "cell_type": "markdown",
   "id": "803b623d-d63b-41c7-b154-71db720c4076",
   "metadata": {
    "pycharm": {
     "name": "#%% md\n"
    }
   },
   "source": [
    "## Saving the information\n",
    "Let's now save some information so that we can use this agent as a sub-agent of our traveler assistant"
   ]
  },
  {
   "cell_type": "code",
   "execution_count": null,
   "id": "c81ef41d-e638-4b47-8115-20b410597368",
   "metadata": {
    "pycharm": {
     "name": "#%%\n"
    }
   },
   "outputs": [],
   "source": [
    "%store github_agent_id\n",
    "%store github_assistant_agent_alias_id\n",
    "%store github_assistant_agent_alias_arn"
   ]
  },
  {
   "cell_type": "markdown",
   "id": "443e8e49-2fe9-43d7-93b4-6e8a97934088",
   "metadata": {
    "pycharm": {
     "name": "#%% md\n"
    }
   },
   "source": [
    "## Next steps\n",
    "Next let's create our other sub-agents for github"
   ]
  }
 ],
 "metadata": {
  "kernelspec": {
   "display_name": "Python 3 (ipykernel)",
   "language": "python",
   "name": "python3"
  },
  "language_info": {
   "codemirror_mode": {
    "name": "ipython",
    "version": 3
   },
   "file_extension": ".py",
   "mimetype": "text/x-python",
   "name": "python",
   "nbconvert_exporter": "python",
   "pygments_lexer": "ipython3",
   "version": "3.11.10"
  }
 },
 "nbformat": 4,
 "nbformat_minor": 5
}
